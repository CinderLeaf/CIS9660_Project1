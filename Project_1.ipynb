{
  "nbformat": 4,
  "nbformat_minor": 0,
  "metadata": {
    "colab": {
      "name": "Project#1.ipynb",
      "provenance": [],
      "collapsed_sections": []
    },
    "kernelspec": {
      "name": "python3",
      "display_name": "Python 3"
    },
    "language_info": {
      "name": "python"
    }
  },
  "cells": [
    {
      "cell_type": "markdown",
      "source": [
        "# Preparing data\n"
      ],
      "metadata": {
        "id": "v6TtFn9lbZ9K"
      }
    },
    {
      "cell_type": "markdown",
      "source": [
        "Import all the necessary libraries"
      ],
      "metadata": {
        "id": "puegNQNVDEPf"
      }
    },
    {
      "cell_type": "code",
      "execution_count": 77,
      "metadata": {
        "id": "sRdEnhn-CUHC"
      },
      "outputs": [],
      "source": [
        "import pandas as pd\n",
        "import matplotlib.pyplot as plt\n",
        "import seaborn as sns"
      ]
    },
    {
      "cell_type": "markdown",
      "source": [
        "Import the data file from GitHub"
      ],
      "metadata": {
        "id": "Yul3KCNeDuk2"
      }
    },
    {
      "cell_type": "code",
      "source": [
        "stroke = pd.read_csv('https://raw.githubusercontent.com/CinderLeaf/CIS9660_Project1/main/healthcare-dataset-stroke-data.csv')\n",
        "stroke.head()"
      ],
      "metadata": {
        "colab": {
          "base_uri": "https://localhost:8080/",
          "height": 206
        },
        "id": "Xk_YmolIDfHm",
        "outputId": "cb8be2c4-46c9-42e5-c38e-32728a1b1cb1"
      },
      "execution_count": 78,
      "outputs": [
        {
          "output_type": "execute_result",
          "data": {
            "text/plain": [
              "      id  gender   age  hypertension  heart_disease ever_married  \\\n",
              "0   9046    Male  67.0             0              1          Yes   \n",
              "1  51676  Female  61.0             0              0          Yes   \n",
              "2  31112    Male  80.0             0              1          Yes   \n",
              "3  60182  Female  49.0             0              0          Yes   \n",
              "4   1665  Female  79.0             1              0          Yes   \n",
              "\n",
              "       work_type Residence_type  avg_glucose_level   bmi   smoking_status  \\\n",
              "0        Private          Urban             228.69  36.6  formerly smoked   \n",
              "1  Self-employed          Rural             202.21   NaN     never smoked   \n",
              "2        Private          Rural             105.92  32.5     never smoked   \n",
              "3        Private          Urban             171.23  34.4           smokes   \n",
              "4  Self-employed          Rural             174.12  24.0     never smoked   \n",
              "\n",
              "   stroke  \n",
              "0       1  \n",
              "1       1  \n",
              "2       1  \n",
              "3       1  \n",
              "4       1  "
            ],
            "text/html": [
              "\n",
              "  <div id=\"df-33b00243-59b7-488d-bde9-22ae8af16035\">\n",
              "    <div class=\"colab-df-container\">\n",
              "      <div>\n",
              "<style scoped>\n",
              "    .dataframe tbody tr th:only-of-type {\n",
              "        vertical-align: middle;\n",
              "    }\n",
              "\n",
              "    .dataframe tbody tr th {\n",
              "        vertical-align: top;\n",
              "    }\n",
              "\n",
              "    .dataframe thead th {\n",
              "        text-align: right;\n",
              "    }\n",
              "</style>\n",
              "<table border=\"1\" class=\"dataframe\">\n",
              "  <thead>\n",
              "    <tr style=\"text-align: right;\">\n",
              "      <th></th>\n",
              "      <th>id</th>\n",
              "      <th>gender</th>\n",
              "      <th>age</th>\n",
              "      <th>hypertension</th>\n",
              "      <th>heart_disease</th>\n",
              "      <th>ever_married</th>\n",
              "      <th>work_type</th>\n",
              "      <th>Residence_type</th>\n",
              "      <th>avg_glucose_level</th>\n",
              "      <th>bmi</th>\n",
              "      <th>smoking_status</th>\n",
              "      <th>stroke</th>\n",
              "    </tr>\n",
              "  </thead>\n",
              "  <tbody>\n",
              "    <tr>\n",
              "      <th>0</th>\n",
              "      <td>9046</td>\n",
              "      <td>Male</td>\n",
              "      <td>67.0</td>\n",
              "      <td>0</td>\n",
              "      <td>1</td>\n",
              "      <td>Yes</td>\n",
              "      <td>Private</td>\n",
              "      <td>Urban</td>\n",
              "      <td>228.69</td>\n",
              "      <td>36.6</td>\n",
              "      <td>formerly smoked</td>\n",
              "      <td>1</td>\n",
              "    </tr>\n",
              "    <tr>\n",
              "      <th>1</th>\n",
              "      <td>51676</td>\n",
              "      <td>Female</td>\n",
              "      <td>61.0</td>\n",
              "      <td>0</td>\n",
              "      <td>0</td>\n",
              "      <td>Yes</td>\n",
              "      <td>Self-employed</td>\n",
              "      <td>Rural</td>\n",
              "      <td>202.21</td>\n",
              "      <td>NaN</td>\n",
              "      <td>never smoked</td>\n",
              "      <td>1</td>\n",
              "    </tr>\n",
              "    <tr>\n",
              "      <th>2</th>\n",
              "      <td>31112</td>\n",
              "      <td>Male</td>\n",
              "      <td>80.0</td>\n",
              "      <td>0</td>\n",
              "      <td>1</td>\n",
              "      <td>Yes</td>\n",
              "      <td>Private</td>\n",
              "      <td>Rural</td>\n",
              "      <td>105.92</td>\n",
              "      <td>32.5</td>\n",
              "      <td>never smoked</td>\n",
              "      <td>1</td>\n",
              "    </tr>\n",
              "    <tr>\n",
              "      <th>3</th>\n",
              "      <td>60182</td>\n",
              "      <td>Female</td>\n",
              "      <td>49.0</td>\n",
              "      <td>0</td>\n",
              "      <td>0</td>\n",
              "      <td>Yes</td>\n",
              "      <td>Private</td>\n",
              "      <td>Urban</td>\n",
              "      <td>171.23</td>\n",
              "      <td>34.4</td>\n",
              "      <td>smokes</td>\n",
              "      <td>1</td>\n",
              "    </tr>\n",
              "    <tr>\n",
              "      <th>4</th>\n",
              "      <td>1665</td>\n",
              "      <td>Female</td>\n",
              "      <td>79.0</td>\n",
              "      <td>1</td>\n",
              "      <td>0</td>\n",
              "      <td>Yes</td>\n",
              "      <td>Self-employed</td>\n",
              "      <td>Rural</td>\n",
              "      <td>174.12</td>\n",
              "      <td>24.0</td>\n",
              "      <td>never smoked</td>\n",
              "      <td>1</td>\n",
              "    </tr>\n",
              "  </tbody>\n",
              "</table>\n",
              "</div>\n",
              "      <button class=\"colab-df-convert\" onclick=\"convertToInteractive('df-33b00243-59b7-488d-bde9-22ae8af16035')\"\n",
              "              title=\"Convert this dataframe to an interactive table.\"\n",
              "              style=\"display:none;\">\n",
              "        \n",
              "  <svg xmlns=\"http://www.w3.org/2000/svg\" height=\"24px\"viewBox=\"0 0 24 24\"\n",
              "       width=\"24px\">\n",
              "    <path d=\"M0 0h24v24H0V0z\" fill=\"none\"/>\n",
              "    <path d=\"M18.56 5.44l.94 2.06.94-2.06 2.06-.94-2.06-.94-.94-2.06-.94 2.06-2.06.94zm-11 1L8.5 8.5l.94-2.06 2.06-.94-2.06-.94L8.5 2.5l-.94 2.06-2.06.94zm10 10l.94 2.06.94-2.06 2.06-.94-2.06-.94-.94-2.06-.94 2.06-2.06.94z\"/><path d=\"M17.41 7.96l-1.37-1.37c-.4-.4-.92-.59-1.43-.59-.52 0-1.04.2-1.43.59L10.3 9.45l-7.72 7.72c-.78.78-.78 2.05 0 2.83L4 21.41c.39.39.9.59 1.41.59.51 0 1.02-.2 1.41-.59l7.78-7.78 2.81-2.81c.8-.78.8-2.07 0-2.86zM5.41 20L4 18.59l7.72-7.72 1.47 1.35L5.41 20z\"/>\n",
              "  </svg>\n",
              "      </button>\n",
              "      \n",
              "  <style>\n",
              "    .colab-df-container {\n",
              "      display:flex;\n",
              "      flex-wrap:wrap;\n",
              "      gap: 12px;\n",
              "    }\n",
              "\n",
              "    .colab-df-convert {\n",
              "      background-color: #E8F0FE;\n",
              "      border: none;\n",
              "      border-radius: 50%;\n",
              "      cursor: pointer;\n",
              "      display: none;\n",
              "      fill: #1967D2;\n",
              "      height: 32px;\n",
              "      padding: 0 0 0 0;\n",
              "      width: 32px;\n",
              "    }\n",
              "\n",
              "    .colab-df-convert:hover {\n",
              "      background-color: #E2EBFA;\n",
              "      box-shadow: 0px 1px 2px rgba(60, 64, 67, 0.3), 0px 1px 3px 1px rgba(60, 64, 67, 0.15);\n",
              "      fill: #174EA6;\n",
              "    }\n",
              "\n",
              "    [theme=dark] .colab-df-convert {\n",
              "      background-color: #3B4455;\n",
              "      fill: #D2E3FC;\n",
              "    }\n",
              "\n",
              "    [theme=dark] .colab-df-convert:hover {\n",
              "      background-color: #434B5C;\n",
              "      box-shadow: 0px 1px 3px 1px rgba(0, 0, 0, 0.15);\n",
              "      filter: drop-shadow(0px 1px 2px rgba(0, 0, 0, 0.3));\n",
              "      fill: #FFFFFF;\n",
              "    }\n",
              "  </style>\n",
              "\n",
              "      <script>\n",
              "        const buttonEl =\n",
              "          document.querySelector('#df-33b00243-59b7-488d-bde9-22ae8af16035 button.colab-df-convert');\n",
              "        buttonEl.style.display =\n",
              "          google.colab.kernel.accessAllowed ? 'block' : 'none';\n",
              "\n",
              "        async function convertToInteractive(key) {\n",
              "          const element = document.querySelector('#df-33b00243-59b7-488d-bde9-22ae8af16035');\n",
              "          const dataTable =\n",
              "            await google.colab.kernel.invokeFunction('convertToInteractive',\n",
              "                                                     [key], {});\n",
              "          if (!dataTable) return;\n",
              "\n",
              "          const docLinkHtml = 'Like what you see? Visit the ' +\n",
              "            '<a target=\"_blank\" href=https://colab.research.google.com/notebooks/data_table.ipynb>data table notebook</a>'\n",
              "            + ' to learn more about interactive tables.';\n",
              "          element.innerHTML = '';\n",
              "          dataTable['output_type'] = 'display_data';\n",
              "          await google.colab.output.renderOutput(dataTable, element);\n",
              "          const docLink = document.createElement('div');\n",
              "          docLink.innerHTML = docLinkHtml;\n",
              "          element.appendChild(docLink);\n",
              "        }\n",
              "      </script>\n",
              "    </div>\n",
              "  </div>\n",
              "  "
            ]
          },
          "metadata": {},
          "execution_count": 78
        }
      ]
    },
    {
      "cell_type": "markdown",
      "source": [
        "Check the dataset to see how many rows and columns it has"
      ],
      "metadata": {
        "id": "r2s05NMuEFon"
      }
    },
    {
      "cell_type": "code",
      "source": [
        "stroke.shape"
      ],
      "metadata": {
        "colab": {
          "base_uri": "https://localhost:8080/"
        },
        "id": "gcK3xW5pEZPr",
        "outputId": "93d46acf-a1f3-4161-a8b2-65506c76c813"
      },
      "execution_count": 79,
      "outputs": [
        {
          "output_type": "execute_result",
          "data": {
            "text/plain": [
              "(5110, 12)"
            ]
          },
          "metadata": {},
          "execution_count": 79
        }
      ]
    },
    {
      "cell_type": "markdown",
      "source": [
        "Check the data type for each column"
      ],
      "metadata": {
        "id": "iITKKiOSDuqt"
      }
    },
    {
      "cell_type": "code",
      "source": [
        "stroke.info()"
      ],
      "metadata": {
        "colab": {
          "base_uri": "https://localhost:8080/"
        },
        "id": "l6gm8ZY8ErU-",
        "outputId": "1db5de0f-b801-4ae1-ec0f-3f016fd63591"
      },
      "execution_count": 80,
      "outputs": [
        {
          "output_type": "stream",
          "name": "stdout",
          "text": [
            "<class 'pandas.core.frame.DataFrame'>\n",
            "RangeIndex: 5110 entries, 0 to 5109\n",
            "Data columns (total 12 columns):\n",
            " #   Column             Non-Null Count  Dtype  \n",
            "---  ------             --------------  -----  \n",
            " 0   id                 5110 non-null   int64  \n",
            " 1   gender             5110 non-null   object \n",
            " 2   age                5110 non-null   float64\n",
            " 3   hypertension       5110 non-null   int64  \n",
            " 4   heart_disease      5110 non-null   int64  \n",
            " 5   ever_married       5110 non-null   object \n",
            " 6   work_type          5110 non-null   object \n",
            " 7   Residence_type     5110 non-null   object \n",
            " 8   avg_glucose_level  5110 non-null   float64\n",
            " 9   bmi                4909 non-null   float64\n",
            " 10  smoking_status     5110 non-null   object \n",
            " 11  stroke             5110 non-null   int64  \n",
            "dtypes: float64(3), int64(4), object(5)\n",
            "memory usage: 479.2+ KB\n"
          ]
        }
      ]
    },
    {
      "cell_type": "markdown",
      "source": [
        "Looks like there are some missing values in column bmi. Check how many percentage of data is missing in bmi"
      ],
      "metadata": {
        "id": "Gu4wAFhyEyHv"
      }
    },
    {
      "cell_type": "code",
      "source": [
        "stroke.isnull().sum()"
      ],
      "metadata": {
        "colab": {
          "base_uri": "https://localhost:8080/"
        },
        "id": "mzrFzRl7E5O4",
        "outputId": "fad60e74-c9af-4dbe-9eee-fc09ddfdc3e7"
      },
      "execution_count": 81,
      "outputs": [
        {
          "output_type": "execute_result",
          "data": {
            "text/plain": [
              "id                     0\n",
              "gender                 0\n",
              "age                    0\n",
              "hypertension           0\n",
              "heart_disease          0\n",
              "ever_married           0\n",
              "work_type              0\n",
              "Residence_type         0\n",
              "avg_glucose_level      0\n",
              "bmi                  201\n",
              "smoking_status         0\n",
              "stroke                 0\n",
              "dtype: int64"
            ]
          },
          "metadata": {},
          "execution_count": 81
        }
      ]
    },
    {
      "cell_type": "code",
      "source": [
        "stroke['bmi'].isnull().sum() / len(stroke['bmi']) * 100"
      ],
      "metadata": {
        "colab": {
          "base_uri": "https://localhost:8080/"
        },
        "id": "lI3P9MZfFRH0",
        "outputId": "2ad14ea7-a0fe-4e7b-b3f9-1ff74692e179"
      },
      "execution_count": 82,
      "outputs": [
        {
          "output_type": "execute_result",
          "data": {
            "text/plain": [
              "3.9334637964774952"
            ]
          },
          "metadata": {},
          "execution_count": 82
        }
      ]
    },
    {
      "cell_type": "markdown",
      "source": [
        "Since it is only roughly 4% of the dataset, I decided to drop all the missing values from the bmi column"
      ],
      "metadata": {
        "id": "l3UzLohBFzik"
      }
    },
    {
      "cell_type": "code",
      "source": [
        "stroke.dropna(inplace = True)\n",
        "stroke.isnull().sum()"
      ],
      "metadata": {
        "colab": {
          "base_uri": "https://localhost:8080/"
        },
        "id": "2WOJ5p2fF9fk",
        "outputId": "e6235427-de17-499b-becd-77f5c2f6966c"
      },
      "execution_count": 83,
      "outputs": [
        {
          "output_type": "execute_result",
          "data": {
            "text/plain": [
              "id                   0\n",
              "gender               0\n",
              "age                  0\n",
              "hypertension         0\n",
              "heart_disease        0\n",
              "ever_married         0\n",
              "work_type            0\n",
              "Residence_type       0\n",
              "avg_glucose_level    0\n",
              "bmi                  0\n",
              "smoking_status       0\n",
              "stroke               0\n",
              "dtype: int64"
            ]
          },
          "metadata": {},
          "execution_count": 83
        }
      ]
    },
    {
      "cell_type": "markdown",
      "source": [
        "Drop the id column since it is irrelevant in this project"
      ],
      "metadata": {
        "id": "TPv1chwjI0EK"
      }
    },
    {
      "cell_type": "code",
      "source": [
        "stroke.drop(['id'], axis = 1, inplace = True)"
      ],
      "metadata": {
        "id": "_5-k5YA3Io-p"
      },
      "execution_count": 84,
      "outputs": []
    },
    {
      "cell_type": "markdown",
      "source": [
        "Check the dataset after all the missing values and the id column are dropped"
      ],
      "metadata": {
        "id": "jTTqSnTCGgVs"
      }
    },
    {
      "cell_type": "code",
      "source": [
        "stroke.head()"
      ],
      "metadata": {
        "colab": {
          "base_uri": "https://localhost:8080/",
          "height": 206
        },
        "id": "xvGwBUYvGksd",
        "outputId": "1321aac0-a7e8-4413-edb6-6971231a595b"
      },
      "execution_count": 85,
      "outputs": [
        {
          "output_type": "execute_result",
          "data": {
            "text/plain": [
              "   gender   age  hypertension  heart_disease ever_married      work_type  \\\n",
              "0    Male  67.0             0              1          Yes        Private   \n",
              "2    Male  80.0             0              1          Yes        Private   \n",
              "3  Female  49.0             0              0          Yes        Private   \n",
              "4  Female  79.0             1              0          Yes  Self-employed   \n",
              "5    Male  81.0             0              0          Yes        Private   \n",
              "\n",
              "  Residence_type  avg_glucose_level   bmi   smoking_status  stroke  \n",
              "0          Urban             228.69  36.6  formerly smoked       1  \n",
              "2          Rural             105.92  32.5     never smoked       1  \n",
              "3          Urban             171.23  34.4           smokes       1  \n",
              "4          Rural             174.12  24.0     never smoked       1  \n",
              "5          Urban             186.21  29.0  formerly smoked       1  "
            ],
            "text/html": [
              "\n",
              "  <div id=\"df-251ff76b-b294-4f48-ae92-f2f920120ebf\">\n",
              "    <div class=\"colab-df-container\">\n",
              "      <div>\n",
              "<style scoped>\n",
              "    .dataframe tbody tr th:only-of-type {\n",
              "        vertical-align: middle;\n",
              "    }\n",
              "\n",
              "    .dataframe tbody tr th {\n",
              "        vertical-align: top;\n",
              "    }\n",
              "\n",
              "    .dataframe thead th {\n",
              "        text-align: right;\n",
              "    }\n",
              "</style>\n",
              "<table border=\"1\" class=\"dataframe\">\n",
              "  <thead>\n",
              "    <tr style=\"text-align: right;\">\n",
              "      <th></th>\n",
              "      <th>gender</th>\n",
              "      <th>age</th>\n",
              "      <th>hypertension</th>\n",
              "      <th>heart_disease</th>\n",
              "      <th>ever_married</th>\n",
              "      <th>work_type</th>\n",
              "      <th>Residence_type</th>\n",
              "      <th>avg_glucose_level</th>\n",
              "      <th>bmi</th>\n",
              "      <th>smoking_status</th>\n",
              "      <th>stroke</th>\n",
              "    </tr>\n",
              "  </thead>\n",
              "  <tbody>\n",
              "    <tr>\n",
              "      <th>0</th>\n",
              "      <td>Male</td>\n",
              "      <td>67.0</td>\n",
              "      <td>0</td>\n",
              "      <td>1</td>\n",
              "      <td>Yes</td>\n",
              "      <td>Private</td>\n",
              "      <td>Urban</td>\n",
              "      <td>228.69</td>\n",
              "      <td>36.6</td>\n",
              "      <td>formerly smoked</td>\n",
              "      <td>1</td>\n",
              "    </tr>\n",
              "    <tr>\n",
              "      <th>2</th>\n",
              "      <td>Male</td>\n",
              "      <td>80.0</td>\n",
              "      <td>0</td>\n",
              "      <td>1</td>\n",
              "      <td>Yes</td>\n",
              "      <td>Private</td>\n",
              "      <td>Rural</td>\n",
              "      <td>105.92</td>\n",
              "      <td>32.5</td>\n",
              "      <td>never smoked</td>\n",
              "      <td>1</td>\n",
              "    </tr>\n",
              "    <tr>\n",
              "      <th>3</th>\n",
              "      <td>Female</td>\n",
              "      <td>49.0</td>\n",
              "      <td>0</td>\n",
              "      <td>0</td>\n",
              "      <td>Yes</td>\n",
              "      <td>Private</td>\n",
              "      <td>Urban</td>\n",
              "      <td>171.23</td>\n",
              "      <td>34.4</td>\n",
              "      <td>smokes</td>\n",
              "      <td>1</td>\n",
              "    </tr>\n",
              "    <tr>\n",
              "      <th>4</th>\n",
              "      <td>Female</td>\n",
              "      <td>79.0</td>\n",
              "      <td>1</td>\n",
              "      <td>0</td>\n",
              "      <td>Yes</td>\n",
              "      <td>Self-employed</td>\n",
              "      <td>Rural</td>\n",
              "      <td>174.12</td>\n",
              "      <td>24.0</td>\n",
              "      <td>never smoked</td>\n",
              "      <td>1</td>\n",
              "    </tr>\n",
              "    <tr>\n",
              "      <th>5</th>\n",
              "      <td>Male</td>\n",
              "      <td>81.0</td>\n",
              "      <td>0</td>\n",
              "      <td>0</td>\n",
              "      <td>Yes</td>\n",
              "      <td>Private</td>\n",
              "      <td>Urban</td>\n",
              "      <td>186.21</td>\n",
              "      <td>29.0</td>\n",
              "      <td>formerly smoked</td>\n",
              "      <td>1</td>\n",
              "    </tr>\n",
              "  </tbody>\n",
              "</table>\n",
              "</div>\n",
              "      <button class=\"colab-df-convert\" onclick=\"convertToInteractive('df-251ff76b-b294-4f48-ae92-f2f920120ebf')\"\n",
              "              title=\"Convert this dataframe to an interactive table.\"\n",
              "              style=\"display:none;\">\n",
              "        \n",
              "  <svg xmlns=\"http://www.w3.org/2000/svg\" height=\"24px\"viewBox=\"0 0 24 24\"\n",
              "       width=\"24px\">\n",
              "    <path d=\"M0 0h24v24H0V0z\" fill=\"none\"/>\n",
              "    <path d=\"M18.56 5.44l.94 2.06.94-2.06 2.06-.94-2.06-.94-.94-2.06-.94 2.06-2.06.94zm-11 1L8.5 8.5l.94-2.06 2.06-.94-2.06-.94L8.5 2.5l-.94 2.06-2.06.94zm10 10l.94 2.06.94-2.06 2.06-.94-2.06-.94-.94-2.06-.94 2.06-2.06.94z\"/><path d=\"M17.41 7.96l-1.37-1.37c-.4-.4-.92-.59-1.43-.59-.52 0-1.04.2-1.43.59L10.3 9.45l-7.72 7.72c-.78.78-.78 2.05 0 2.83L4 21.41c.39.39.9.59 1.41.59.51 0 1.02-.2 1.41-.59l7.78-7.78 2.81-2.81c.8-.78.8-2.07 0-2.86zM5.41 20L4 18.59l7.72-7.72 1.47 1.35L5.41 20z\"/>\n",
              "  </svg>\n",
              "      </button>\n",
              "      \n",
              "  <style>\n",
              "    .colab-df-container {\n",
              "      display:flex;\n",
              "      flex-wrap:wrap;\n",
              "      gap: 12px;\n",
              "    }\n",
              "\n",
              "    .colab-df-convert {\n",
              "      background-color: #E8F0FE;\n",
              "      border: none;\n",
              "      border-radius: 50%;\n",
              "      cursor: pointer;\n",
              "      display: none;\n",
              "      fill: #1967D2;\n",
              "      height: 32px;\n",
              "      padding: 0 0 0 0;\n",
              "      width: 32px;\n",
              "    }\n",
              "\n",
              "    .colab-df-convert:hover {\n",
              "      background-color: #E2EBFA;\n",
              "      box-shadow: 0px 1px 2px rgba(60, 64, 67, 0.3), 0px 1px 3px 1px rgba(60, 64, 67, 0.15);\n",
              "      fill: #174EA6;\n",
              "    }\n",
              "\n",
              "    [theme=dark] .colab-df-convert {\n",
              "      background-color: #3B4455;\n",
              "      fill: #D2E3FC;\n",
              "    }\n",
              "\n",
              "    [theme=dark] .colab-df-convert:hover {\n",
              "      background-color: #434B5C;\n",
              "      box-shadow: 0px 1px 3px 1px rgba(0, 0, 0, 0.15);\n",
              "      filter: drop-shadow(0px 1px 2px rgba(0, 0, 0, 0.3));\n",
              "      fill: #FFFFFF;\n",
              "    }\n",
              "  </style>\n",
              "\n",
              "      <script>\n",
              "        const buttonEl =\n",
              "          document.querySelector('#df-251ff76b-b294-4f48-ae92-f2f920120ebf button.colab-df-convert');\n",
              "        buttonEl.style.display =\n",
              "          google.colab.kernel.accessAllowed ? 'block' : 'none';\n",
              "\n",
              "        async function convertToInteractive(key) {\n",
              "          const element = document.querySelector('#df-251ff76b-b294-4f48-ae92-f2f920120ebf');\n",
              "          const dataTable =\n",
              "            await google.colab.kernel.invokeFunction('convertToInteractive',\n",
              "                                                     [key], {});\n",
              "          if (!dataTable) return;\n",
              "\n",
              "          const docLinkHtml = 'Like what you see? Visit the ' +\n",
              "            '<a target=\"_blank\" href=https://colab.research.google.com/notebooks/data_table.ipynb>data table notebook</a>'\n",
              "            + ' to learn more about interactive tables.';\n",
              "          element.innerHTML = '';\n",
              "          dataTable['output_type'] = 'display_data';\n",
              "          await google.colab.output.renderOutput(dataTable, element);\n",
              "          const docLink = document.createElement('div');\n",
              "          docLink.innerHTML = docLinkHtml;\n",
              "          element.appendChild(docLink);\n",
              "        }\n",
              "      </script>\n",
              "    </div>\n",
              "  </div>\n",
              "  "
            ]
          },
          "metadata": {},
          "execution_count": 85
        }
      ]
    },
    {
      "cell_type": "markdown",
      "source": [
        "Check the details of the dataset"
      ],
      "metadata": {
        "id": "kpWlrVE6KFww"
      }
    },
    {
      "cell_type": "code",
      "source": [
        "stroke.describe()"
      ],
      "metadata": {
        "colab": {
          "base_uri": "https://localhost:8080/",
          "height": 300
        },
        "id": "x79RJFsyJ2C3",
        "outputId": "071666dc-6cfe-4031-f221-113d58c3ea20"
      },
      "execution_count": 86,
      "outputs": [
        {
          "output_type": "execute_result",
          "data": {
            "text/plain": [
              "               age  hypertension  heart_disease  avg_glucose_level  \\\n",
              "count  4909.000000   4909.000000    4909.000000        4909.000000   \n",
              "mean     42.865374      0.091872       0.049501         105.305150   \n",
              "std      22.555115      0.288875       0.216934          44.424341   \n",
              "min       0.080000      0.000000       0.000000          55.120000   \n",
              "25%      25.000000      0.000000       0.000000          77.070000   \n",
              "50%      44.000000      0.000000       0.000000          91.680000   \n",
              "75%      60.000000      0.000000       0.000000         113.570000   \n",
              "max      82.000000      1.000000       1.000000         271.740000   \n",
              "\n",
              "               bmi       stroke  \n",
              "count  4909.000000  4909.000000  \n",
              "mean     28.893237     0.042575  \n",
              "std       7.854067     0.201917  \n",
              "min      10.300000     0.000000  \n",
              "25%      23.500000     0.000000  \n",
              "50%      28.100000     0.000000  \n",
              "75%      33.100000     0.000000  \n",
              "max      97.600000     1.000000  "
            ],
            "text/html": [
              "\n",
              "  <div id=\"df-70ed4c28-b7c5-4710-acd1-bf7583bb4f2b\">\n",
              "    <div class=\"colab-df-container\">\n",
              "      <div>\n",
              "<style scoped>\n",
              "    .dataframe tbody tr th:only-of-type {\n",
              "        vertical-align: middle;\n",
              "    }\n",
              "\n",
              "    .dataframe tbody tr th {\n",
              "        vertical-align: top;\n",
              "    }\n",
              "\n",
              "    .dataframe thead th {\n",
              "        text-align: right;\n",
              "    }\n",
              "</style>\n",
              "<table border=\"1\" class=\"dataframe\">\n",
              "  <thead>\n",
              "    <tr style=\"text-align: right;\">\n",
              "      <th></th>\n",
              "      <th>age</th>\n",
              "      <th>hypertension</th>\n",
              "      <th>heart_disease</th>\n",
              "      <th>avg_glucose_level</th>\n",
              "      <th>bmi</th>\n",
              "      <th>stroke</th>\n",
              "    </tr>\n",
              "  </thead>\n",
              "  <tbody>\n",
              "    <tr>\n",
              "      <th>count</th>\n",
              "      <td>4909.000000</td>\n",
              "      <td>4909.000000</td>\n",
              "      <td>4909.000000</td>\n",
              "      <td>4909.000000</td>\n",
              "      <td>4909.000000</td>\n",
              "      <td>4909.000000</td>\n",
              "    </tr>\n",
              "    <tr>\n",
              "      <th>mean</th>\n",
              "      <td>42.865374</td>\n",
              "      <td>0.091872</td>\n",
              "      <td>0.049501</td>\n",
              "      <td>105.305150</td>\n",
              "      <td>28.893237</td>\n",
              "      <td>0.042575</td>\n",
              "    </tr>\n",
              "    <tr>\n",
              "      <th>std</th>\n",
              "      <td>22.555115</td>\n",
              "      <td>0.288875</td>\n",
              "      <td>0.216934</td>\n",
              "      <td>44.424341</td>\n",
              "      <td>7.854067</td>\n",
              "      <td>0.201917</td>\n",
              "    </tr>\n",
              "    <tr>\n",
              "      <th>min</th>\n",
              "      <td>0.080000</td>\n",
              "      <td>0.000000</td>\n",
              "      <td>0.000000</td>\n",
              "      <td>55.120000</td>\n",
              "      <td>10.300000</td>\n",
              "      <td>0.000000</td>\n",
              "    </tr>\n",
              "    <tr>\n",
              "      <th>25%</th>\n",
              "      <td>25.000000</td>\n",
              "      <td>0.000000</td>\n",
              "      <td>0.000000</td>\n",
              "      <td>77.070000</td>\n",
              "      <td>23.500000</td>\n",
              "      <td>0.000000</td>\n",
              "    </tr>\n",
              "    <tr>\n",
              "      <th>50%</th>\n",
              "      <td>44.000000</td>\n",
              "      <td>0.000000</td>\n",
              "      <td>0.000000</td>\n",
              "      <td>91.680000</td>\n",
              "      <td>28.100000</td>\n",
              "      <td>0.000000</td>\n",
              "    </tr>\n",
              "    <tr>\n",
              "      <th>75%</th>\n",
              "      <td>60.000000</td>\n",
              "      <td>0.000000</td>\n",
              "      <td>0.000000</td>\n",
              "      <td>113.570000</td>\n",
              "      <td>33.100000</td>\n",
              "      <td>0.000000</td>\n",
              "    </tr>\n",
              "    <tr>\n",
              "      <th>max</th>\n",
              "      <td>82.000000</td>\n",
              "      <td>1.000000</td>\n",
              "      <td>1.000000</td>\n",
              "      <td>271.740000</td>\n",
              "      <td>97.600000</td>\n",
              "      <td>1.000000</td>\n",
              "    </tr>\n",
              "  </tbody>\n",
              "</table>\n",
              "</div>\n",
              "      <button class=\"colab-df-convert\" onclick=\"convertToInteractive('df-70ed4c28-b7c5-4710-acd1-bf7583bb4f2b')\"\n",
              "              title=\"Convert this dataframe to an interactive table.\"\n",
              "              style=\"display:none;\">\n",
              "        \n",
              "  <svg xmlns=\"http://www.w3.org/2000/svg\" height=\"24px\"viewBox=\"0 0 24 24\"\n",
              "       width=\"24px\">\n",
              "    <path d=\"M0 0h24v24H0V0z\" fill=\"none\"/>\n",
              "    <path d=\"M18.56 5.44l.94 2.06.94-2.06 2.06-.94-2.06-.94-.94-2.06-.94 2.06-2.06.94zm-11 1L8.5 8.5l.94-2.06 2.06-.94-2.06-.94L8.5 2.5l-.94 2.06-2.06.94zm10 10l.94 2.06.94-2.06 2.06-.94-2.06-.94-.94-2.06-.94 2.06-2.06.94z\"/><path d=\"M17.41 7.96l-1.37-1.37c-.4-.4-.92-.59-1.43-.59-.52 0-1.04.2-1.43.59L10.3 9.45l-7.72 7.72c-.78.78-.78 2.05 0 2.83L4 21.41c.39.39.9.59 1.41.59.51 0 1.02-.2 1.41-.59l7.78-7.78 2.81-2.81c.8-.78.8-2.07 0-2.86zM5.41 20L4 18.59l7.72-7.72 1.47 1.35L5.41 20z\"/>\n",
              "  </svg>\n",
              "      </button>\n",
              "      \n",
              "  <style>\n",
              "    .colab-df-container {\n",
              "      display:flex;\n",
              "      flex-wrap:wrap;\n",
              "      gap: 12px;\n",
              "    }\n",
              "\n",
              "    .colab-df-convert {\n",
              "      background-color: #E8F0FE;\n",
              "      border: none;\n",
              "      border-radius: 50%;\n",
              "      cursor: pointer;\n",
              "      display: none;\n",
              "      fill: #1967D2;\n",
              "      height: 32px;\n",
              "      padding: 0 0 0 0;\n",
              "      width: 32px;\n",
              "    }\n",
              "\n",
              "    .colab-df-convert:hover {\n",
              "      background-color: #E2EBFA;\n",
              "      box-shadow: 0px 1px 2px rgba(60, 64, 67, 0.3), 0px 1px 3px 1px rgba(60, 64, 67, 0.15);\n",
              "      fill: #174EA6;\n",
              "    }\n",
              "\n",
              "    [theme=dark] .colab-df-convert {\n",
              "      background-color: #3B4455;\n",
              "      fill: #D2E3FC;\n",
              "    }\n",
              "\n",
              "    [theme=dark] .colab-df-convert:hover {\n",
              "      background-color: #434B5C;\n",
              "      box-shadow: 0px 1px 3px 1px rgba(0, 0, 0, 0.15);\n",
              "      filter: drop-shadow(0px 1px 2px rgba(0, 0, 0, 0.3));\n",
              "      fill: #FFFFFF;\n",
              "    }\n",
              "  </style>\n",
              "\n",
              "      <script>\n",
              "        const buttonEl =\n",
              "          document.querySelector('#df-70ed4c28-b7c5-4710-acd1-bf7583bb4f2b button.colab-df-convert');\n",
              "        buttonEl.style.display =\n",
              "          google.colab.kernel.accessAllowed ? 'block' : 'none';\n",
              "\n",
              "        async function convertToInteractive(key) {\n",
              "          const element = document.querySelector('#df-70ed4c28-b7c5-4710-acd1-bf7583bb4f2b');\n",
              "          const dataTable =\n",
              "            await google.colab.kernel.invokeFunction('convertToInteractive',\n",
              "                                                     [key], {});\n",
              "          if (!dataTable) return;\n",
              "\n",
              "          const docLinkHtml = 'Like what you see? Visit the ' +\n",
              "            '<a target=\"_blank\" href=https://colab.research.google.com/notebooks/data_table.ipynb>data table notebook</a>'\n",
              "            + ' to learn more about interactive tables.';\n",
              "          element.innerHTML = '';\n",
              "          dataTable['output_type'] = 'display_data';\n",
              "          await google.colab.output.renderOutput(dataTable, element);\n",
              "          const docLink = document.createElement('div');\n",
              "          docLink.innerHTML = docLinkHtml;\n",
              "          element.appendChild(docLink);\n",
              "        }\n",
              "      </script>\n",
              "    </div>\n",
              "  </div>\n",
              "  "
            ]
          },
          "metadata": {},
          "execution_count": 86
        }
      ]
    },
    {
      "cell_type": "markdown",
      "source": [
        "# Data Visualizations"
      ],
      "metadata": {
        "id": "EwfJRuWAbkUV"
      }
    },
    {
      "cell_type": "markdown",
      "source": [
        "Generate a correlation matrix to see the correlation between all the numeric features"
      ],
      "metadata": {
        "id": "3Lw_X7uhGqYM"
      }
    },
    {
      "cell_type": "code",
      "source": [
        "#Set the height and width of all figures\n",
        "sns.set(rc={'figure.figsize':(12,8)})\n",
        "\n",
        "sns.heatmap(stroke.corr(), annot =True, fmt = '.0%').set(title = \"Correlation Matrix of the Dataset\")\n",
        "plt.show()"
      ],
      "metadata": {
        "colab": {
          "base_uri": "https://localhost:8080/",
          "height": 592
        },
        "id": "mSV1JWQWIRZo",
        "outputId": "152c5f92-e38e-4f4d-855b-dc85007f96f7"
      },
      "execution_count": 133,
      "outputs": [
        {
          "output_type": "display_data",
          "data": {
            "text/plain": [
              "<Figure size 864x576 with 2 Axes>"
            ],
            "image/png": "[encoded data removed]"
          },
          "metadata": {}
        }
      ]
    },
    {
      "cell_type": "markdown",
      "source": [
        "Generate a histogram to see the age distribution of the dataset"
      ],
      "metadata": {
        "id": "XtvGmXsrTjDN"
      }
    },
    {
      "cell_type": "code",
      "source": [
        "sns.histplot(x = stroke['age'], hue = stroke['stroke'], palette = 'Set2').set(title = 'Age Distribution of the Dataset')\n",
        "plt.show()"
      ],
      "metadata": {
        "colab": {
          "base_uri": "https://localhost:8080/",
          "height": 518
        },
        "id": "ebtLJAqQJOXm",
        "outputId": "3904742e-aef4-4da5-dc17-ef9b41d25e85"
      },
      "execution_count": 88,
      "outputs": [
        {
          "output_type": "display_data",
          "data": {
            "text/plain": [
              "<Figure size 864x576 with 1 Axes>"
            ],
            "image/png": "[encoded data removed]"
          },
          "metadata": {}
        }
      ]
    },
    {
      "cell_type": "markdown",
      "source": [
        "Generate a boxplot to compare the BMI between people who had stroke and people who never had a stroke"
      ],
      "metadata": {
        "id": "BksdYj1DT6aY"
      }
    },
    {
      "cell_type": "code",
      "source": [
        "sns.boxplot(x = 'stroke', y = 'bmi', data = stroke, palette = 'Set2').set(title = 'BMI Distribution of People Had Stroke vs Never Had Stroke')\n",
        "plt.show()"
      ],
      "metadata": {
        "colab": {
          "base_uri": "https://localhost:8080/",
          "height": 518
        },
        "id": "XKRZDkxYLP-5",
        "outputId": "fdcde659-a204-4f59-f205-4a7dc004eb56"
      },
      "execution_count": 89,
      "outputs": [
        {
          "output_type": "display_data",
          "data": {
            "text/plain": [
              "<Figure size 864x576 with 1 Axes>"
            ],
            "image/png": "[encoded data removed]"
          },
          "metadata": {}
        }
      ]
    },
    {
      "cell_type": "markdown",
      "source": [
        "Generate a boxplot to compare the average glucose level between people who had stroke and people who never had a stroke"
      ],
      "metadata": {
        "id": "zLyoCMjMUDyg"
      }
    },
    {
      "cell_type": "code",
      "source": [
        "sns.boxplot(x = 'stroke', y = 'avg_glucose_level', data = stroke, palette = 'Set2').set(title = 'Average Glucose Level Distribution of People Had Stroke vs Never Had Stroke')\n",
        "plt.show()"
      ],
      "metadata": {
        "colab": {
          "base_uri": "https://localhost:8080/",
          "height": 518
        },
        "id": "3RQK3ZxWL3I6",
        "outputId": "6b547fac-c50e-4433-ddfa-6194193eefc0"
      },
      "execution_count": 90,
      "outputs": [
        {
          "output_type": "display_data",
          "data": {
            "text/plain": [
              "<Figure size 864x576 with 1 Axes>"
            ],
            "image/png": "[encoded data removed]"
          },
          "metadata": {}
        }
      ]
    },
    {
      "cell_type": "markdown",
      "source": [
        "Generate pie chart to see the different percentage of smoking status among those who never had a stroke"
      ],
      "metadata": {
        "id": "65dip9ukUHja"
      }
    },
    {
      "cell_type": "code",
      "source": [
        "stroke_no = stroke.loc[stroke['stroke'] == 0]\n",
        "smoke = stroke_no['smoking_status'].unique()\n",
        "\n",
        "smoke_counts = stroke_no['smoking_status'].value_counts()\n",
        "smoke_counts\n",
        "\n",
        "colors = sns.color_palette('Set2')\n",
        "\n",
        "plt.pie(smoke_counts.values, labels = smoke, colors = colors, autopct = '%.0f%%')\n",
        "plt.title('Smoking Status of People Who Never Had a Stroke')\n",
        "plt.show()"
      ],
      "metadata": {
        "colab": {
          "base_uri": "https://localhost:8080/",
          "height": 482
        },
        "id": "-K3_uekRMJpd",
        "outputId": "05383fc2-c1b9-4ec6-82f3-59854ee0b26c"
      },
      "execution_count": 91,
      "outputs": [
        {
          "output_type": "display_data",
          "data": {
            "text/plain": [
              "<Figure size 864x576 with 1 Axes>"
            ],
            "image/png": "[encoded data removed]"
          },
          "metadata": {}
        }
      ]
    },
    {
      "cell_type": "markdown",
      "source": [
        "Generate pie chart to see the different percentage of smoking status among those who had a stroke"
      ],
      "metadata": {
        "id": "4GbZPW1vUSTS"
      }
    },
    {
      "cell_type": "code",
      "source": [
        "stroke_yes = stroke.loc[stroke['stroke'] == 1]\n",
        "smoke = stroke_yes['smoking_status'].unique()\n",
        "\n",
        "smoke_counts = stroke_yes['smoking_status'].value_counts()\n",
        "smoke_counts\n",
        "\n",
        "colors = sns.color_palette('Set2')\n",
        "\n",
        "plt.pie(smoke_counts.values, labels = smoke, colors = colors, autopct = '%.0f%%')\n",
        "plt.title('Smoking Status of People Who Had a Stroke')\n",
        "plt.show()"
      ],
      "metadata": {
        "colab": {
          "base_uri": "https://localhost:8080/",
          "height": 482
        },
        "id": "ZjFhC6JIRx6k",
        "outputId": "6ded82fd-71d3-4135-8807-bf4221a4eef6"
      },
      "execution_count": 92,
      "outputs": [
        {
          "output_type": "display_data",
          "data": {
            "text/plain": [
              "<Figure size 864x576 with 1 Axes>"
            ],
            "image/png": "[encoded data removed]"
          },
          "metadata": {}
        }
      ]
    },
    {
      "cell_type": "markdown",
      "source": [
        "# Training Models"
      ],
      "metadata": {
        "id": "F52LWuPob0b3"
      }
    },
    {
      "cell_type": "markdown",
      "source": [
        "## Preset"
      ],
      "metadata": {
        "id": "NB2bcA_ub7aH"
      }
    },
    {
      "cell_type": "markdown",
      "source": [
        "Columns *gender, ever_married, work_type, Residence_type, smoking_status* are categorical data, we need to convert them into numeric data so that the model can read and learn the patterns. Perform a one hot encoding to convert these columns into encoded columns"
      ],
      "metadata": {
        "id": "pYwTuNg-Wdrd"
      }
    },
    {
      "cell_type": "code",
      "source": [
        "#Convert the categorical column by doing one hot encoding\n",
        "gender_encoding = pd.get_dummies(stroke['gender'])\n",
        "work_type_encoding = pd.get_dummies(stroke['work_type'])\n",
        "smoking_status_encoding = pd.get_dummies(stroke['smoking_status'])\n",
        "\n",
        "#Columns 'ever_married' and 'Residence_type' only have two categorical, so we can directly encoded it in the dataframe\n",
        "stroke['ever_married'] = pd.get_dummies(stroke['ever_married'], drop_first=True)\n",
        "stroke['Residence_type'] = pd.get_dummies(stroke['Residence_type'], drop_first=True)\n",
        "\n",
        "#Drop the original columns\n",
        "stroke.drop(['gender', 'work_type', 'smoking_status'], axis = 1, inplace = True)\n",
        "\n",
        "#Add the encoded columns back to the dataset\n",
        "stroke = stroke.join(gender_encoding)\n",
        "stroke = stroke.join(work_type_encoding)\n",
        "stroke = stroke.join(smoking_status_encoding)\n",
        "\n",
        "#Check the dataset to make sure everything is added correctly\n",
        "stroke.head()"
      ],
      "metadata": {
        "colab": {
          "base_uri": "https://localhost:8080/",
          "height": 206
        },
        "id": "cpM4FrWUUW-z",
        "outputId": "ecb43f10-16ce-486f-cb20-1406b5ae589b"
      },
      "execution_count": 93,
      "outputs": [
        {
          "output_type": "execute_result",
          "data": {
            "text/plain": [
              "    age  hypertension  heart_disease  ever_married  Residence_type  \\\n",
              "0  67.0             0              1             1               1   \n",
              "2  80.0             0              1             1               0   \n",
              "3  49.0             0              0             1               1   \n",
              "4  79.0             1              0             1               0   \n",
              "5  81.0             0              0             1               1   \n",
              "\n",
              "   avg_glucose_level   bmi  stroke  Female  Male  Other  Govt_job  \\\n",
              "0             228.69  36.6       1       0     1      0         0   \n",
              "2             105.92  32.5       1       0     1      0         0   \n",
              "3             171.23  34.4       1       1     0      0         0   \n",
              "4             174.12  24.0       1       1     0      0         0   \n",
              "5             186.21  29.0       1       0     1      0         0   \n",
              "\n",
              "   Never_worked  Private  Self-employed  children  Unknown  formerly smoked  \\\n",
              "0             0        1              0         0        0                1   \n",
              "2             0        1              0         0        0                0   \n",
              "3             0        1              0         0        0                0   \n",
              "4             0        0              1         0        0                0   \n",
              "5             0        1              0         0        0                1   \n",
              "\n",
              "   never smoked  smokes  \n",
              "0             0       0  \n",
              "2             1       0  \n",
              "3             0       1  \n",
              "4             1       0  \n",
              "5             0       0  "
            ],
            "text/html": [
              "\n",
              "  <div id=\"df-33e64707-2a08-4224-b9f2-24a20d062040\">\n",
              "    <div class=\"colab-df-container\">\n",
              "      <div>\n",
              "<style scoped>\n",
              "    .dataframe tbody tr th:only-of-type {\n",
              "        vertical-align: middle;\n",
              "    }\n",
              "\n",
              "    .dataframe tbody tr th {\n",
              "        vertical-align: top;\n",
              "    }\n",
              "\n",
              "    .dataframe thead th {\n",
              "        text-align: right;\n",
              "    }\n",
              "</style>\n",
              "<table border=\"1\" class=\"dataframe\">\n",
              "  <thead>\n",
              "    <tr style=\"text-align: right;\">\n",
              "      <th></th>\n",
              "      <th>age</th>\n",
              "      <th>hypertension</th>\n",
              "      <th>heart_disease</th>\n",
              "      <th>ever_married</th>\n",
              "      <th>Residence_type</th>\n",
              "      <th>avg_glucose_level</th>\n",
              "      <th>bmi</th>\n",
              "      <th>stroke</th>\n",
              "      <th>Female</th>\n",
              "      <th>Male</th>\n",
              "      <th>Other</th>\n",
              "      <th>Govt_job</th>\n",
              "      <th>Never_worked</th>\n",
              "      <th>Private</th>\n",
              "      <th>Self-employed</th>\n",
              "      <th>children</th>\n",
              "      <th>Unknown</th>\n",
              "      <th>formerly smoked</th>\n",
              "      <th>never smoked</th>\n",
              "      <th>smokes</th>\n",
              "    </tr>\n",
              "  </thead>\n",
              "  <tbody>\n",
              "    <tr>\n",
              "      <th>0</th>\n",
              "      <td>67.0</td>\n",
              "      <td>0</td>\n",
              "      <td>1</td>\n",
              "      <td>1</td>\n",
              "      <td>1</td>\n",
              "      <td>228.69</td>\n",
              "      <td>36.6</td>\n",
              "      <td>1</td>\n",
              "      <td>0</td>\n",
              "      <td>1</td>\n",
              "      <td>0</td>\n",
              "      <td>0</td>\n",
              "      <td>0</td>\n",
              "      <td>1</td>\n",
              "      <td>0</td>\n",
              "      <td>0</td>\n",
              "      <td>0</td>\n",
              "      <td>1</td>\n",
              "      <td>0</td>\n",
              "      <td>0</td>\n",
              "    </tr>\n",
              "    <tr>\n",
              "      <th>2</th>\n",
              "      <td>80.0</td>\n",
              "      <td>0</td>\n",
              "      <td>1</td>\n",
              "      <td>1</td>\n",
              "      <td>0</td>\n",
              "      <td>105.92</td>\n",
              "      <td>32.5</td>\n",
              "      <td>1</td>\n",
              "      <td>0</td>\n",
              "      <td>1</td>\n",
              "      <td>0</td>\n",
              "      <td>0</td>\n",
              "      <td>0</td>\n",
              "      <td>1</td>\n",
              "      <td>0</td>\n",
              "      <td>0</td>\n",
              "      <td>0</td>\n",
              "      <td>0</td>\n",
              "      <td>1</td>\n",
              "      <td>0</td>\n",
              "    </tr>\n",
              "    <tr>\n",
              "      <th>3</th>\n",
              "      <td>49.0</td>\n",
              "      <td>0</td>\n",
              "      <td>0</td>\n",
              "      <td>1</td>\n",
              "      <td>1</td>\n",
              "      <td>171.23</td>\n",
              "      <td>34.4</td>\n",
              "      <td>1</td>\n",
              "      <td>1</td>\n",
              "      <td>0</td>\n",
              "      <td>0</td>\n",
              "      <td>0</td>\n",
              "      <td>0</td>\n",
              "      <td>1</td>\n",
              "      <td>0</td>\n",
              "      <td>0</td>\n",
              "      <td>0</td>\n",
              "      <td>0</td>\n",
              "      <td>0</td>\n",
              "      <td>1</td>\n",
              "    </tr>\n",
              "    <tr>\n",
              "      <th>4</th>\n",
              "      <td>79.0</td>\n",
              "      <td>1</td>\n",
              "      <td>0</td>\n",
              "      <td>1</td>\n",
              "      <td>0</td>\n",
              "      <td>174.12</td>\n",
              "      <td>24.0</td>\n",
              "      <td>1</td>\n",
              "      <td>1</td>\n",
              "      <td>0</td>\n",
              "      <td>0</td>\n",
              "      <td>0</td>\n",
              "      <td>0</td>\n",
              "      <td>0</td>\n",
              "      <td>1</td>\n",
              "      <td>0</td>\n",
              "      <td>0</td>\n",
              "      <td>0</td>\n",
              "      <td>1</td>\n",
              "      <td>0</td>\n",
              "    </tr>\n",
              "    <tr>\n",
              "      <th>5</th>\n",
              "      <td>81.0</td>\n",
              "      <td>0</td>\n",
              "      <td>0</td>\n",
              "      <td>1</td>\n",
              "      <td>1</td>\n",
              "      <td>186.21</td>\n",
              "      <td>29.0</td>\n",
              "      <td>1</td>\n",
              "      <td>0</td>\n",
              "      <td>1</td>\n",
              "      <td>0</td>\n",
              "      <td>0</td>\n",
              "      <td>0</td>\n",
              "      <td>1</td>\n",
              "      <td>0</td>\n",
              "      <td>0</td>\n",
              "      <td>0</td>\n",
              "      <td>1</td>\n",
              "      <td>0</td>\n",
              "      <td>0</td>\n",
              "    </tr>\n",
              "  </tbody>\n",
              "</table>\n",
              "</div>\n",
              "      <button class=\"colab-df-convert\" onclick=\"convertToInteractive('df-33e64707-2a08-4224-b9f2-24a20d062040')\"\n",
              "              title=\"Convert this dataframe to an interactive table.\"\n",
              "              style=\"display:none;\">\n",
              "        \n",
              "  <svg xmlns=\"http://www.w3.org/2000/svg\" height=\"24px\"viewBox=\"0 0 24 24\"\n",
              "       width=\"24px\">\n",
              "    <path d=\"M0 0h24v24H0V0z\" fill=\"none\"/>\n",
              "    <path d=\"M18.56 5.44l.94 2.06.94-2.06 2.06-.94-2.06-.94-.94-2.06-.94 2.06-2.06.94zm-11 1L8.5 8.5l.94-2.06 2.06-.94-2.06-.94L8.5 2.5l-.94 2.06-2.06.94zm10 10l.94 2.06.94-2.06 2.06-.94-2.06-.94-.94-2.06-.94 2.06-2.06.94z\"/><path d=\"M17.41 7.96l-1.37-1.37c-.4-.4-.92-.59-1.43-.59-.52 0-1.04.2-1.43.59L10.3 9.45l-7.72 7.72c-.78.78-.78 2.05 0 2.83L4 21.41c.39.39.9.59 1.41.59.51 0 1.02-.2 1.41-.59l7.78-7.78 2.81-2.81c.8-.78.8-2.07 0-2.86zM5.41 20L4 18.59l7.72-7.72 1.47 1.35L5.41 20z\"/>\n",
              "  </svg>\n",
              "      </button>\n",
              "      \n",
              "  <style>\n",
              "    .colab-df-container {\n",
              "      display:flex;\n",
              "      flex-wrap:wrap;\n",
              "      gap: 12px;\n",
              "    }\n",
              "\n",
              "    .colab-df-convert {\n",
              "      background-color: #E8F0FE;\n",
              "      border: none;\n",
              "      border-radius: 50%;\n",
              "      cursor: pointer;\n",
              "      display: none;\n",
              "      fill: #1967D2;\n",
              "      height: 32px;\n",
              "      padding: 0 0 0 0;\n",
              "      width: 32px;\n",
              "    }\n",
              "\n",
              "    .colab-df-convert:hover {\n",
              "      background-color: #E2EBFA;\n",
              "      box-shadow: 0px 1px 2px rgba(60, 64, 67, 0.3), 0px 1px 3px 1px rgba(60, 64, 67, 0.15);\n",
              "      fill: #174EA6;\n",
              "    }\n",
              "\n",
              "    [theme=dark] .colab-df-convert {\n",
              "      background-color: #3B4455;\n",
              "      fill: #D2E3FC;\n",
              "    }\n",
              "\n",
              "    [theme=dark] .colab-df-convert:hover {\n",
              "      background-color: #434B5C;\n",
              "      box-shadow: 0px 1px 3px 1px rgba(0, 0, 0, 0.15);\n",
              "      filter: drop-shadow(0px 1px 2px rgba(0, 0, 0, 0.3));\n",
              "      fill: #FFFFFF;\n",
              "    }\n",
              "  </style>\n",
              "\n",
              "      <script>\n",
              "        const buttonEl =\n",
              "          document.querySelector('#df-33e64707-2a08-4224-b9f2-24a20d062040 button.colab-df-convert');\n",
              "        buttonEl.style.display =\n",
              "          google.colab.kernel.accessAllowed ? 'block' : 'none';\n",
              "\n",
              "        async function convertToInteractive(key) {\n",
              "          const element = document.querySelector('#df-33e64707-2a08-4224-b9f2-24a20d062040');\n",
              "          const dataTable =\n",
              "            await google.colab.kernel.invokeFunction('convertToInteractive',\n",
              "                                                     [key], {});\n",
              "          if (!dataTable) return;\n",
              "\n",
              "          const docLinkHtml = 'Like what you see? Visit the ' +\n",
              "            '<a target=\"_blank\" href=https://colab.research.google.com/notebooks/data_table.ipynb>data table notebook</a>'\n",
              "            + ' to learn more about interactive tables.';\n",
              "          element.innerHTML = '';\n",
              "          dataTable['output_type'] = 'display_data';\n",
              "          await google.colab.output.renderOutput(dataTable, element);\n",
              "          const docLink = document.createElement('div');\n",
              "          docLink.innerHTML = docLinkHtml;\n",
              "          element.appendChild(docLink);\n",
              "        }\n",
              "      </script>\n",
              "    </div>\n",
              "  </div>\n",
              "  "
            ]
          },
          "metadata": {},
          "execution_count": 93
        }
      ]
    },
    {
      "cell_type": "markdown",
      "source": [
        "Separate the features (x-variables) from the labels (y-variable). The label will be the *stroke* column, and the features will be all the other columns."
      ],
      "metadata": {
        "id": "QykkRz7QZKmw"
      }
    },
    {
      "cell_type": "code",
      "source": [
        "#Define the features\n",
        "X = stroke.drop(['stroke'], axis = 1).values\n",
        "X"
      ],
      "metadata": {
        "colab": {
          "base_uri": "https://localhost:8080/"
        },
        "id": "J_9rgRCZaL0x",
        "outputId": "b04587de-f2ce-4308-c9f4-f08d11685645"
      },
      "execution_count": 94,
      "outputs": [
        {
          "output_type": "execute_result",
          "data": {
            "text/plain": [
              "array([[67.,  0.,  1., ...,  1.,  0.,  0.],\n",
              "       [80.,  0.,  1., ...,  0.,  1.,  0.],\n",
              "       [49.,  0.,  0., ...,  0.,  0.,  1.],\n",
              "       ...,\n",
              "       [35.,  0.,  0., ...,  0.,  1.,  0.],\n",
              "       [51.,  0.,  0., ...,  1.,  0.,  0.],\n",
              "       [44.,  0.,  0., ...,  0.,  0.,  0.]])"
            ]
          },
          "metadata": {},
          "execution_count": 94
        }
      ]
    },
    {
      "cell_type": "code",
      "source": [
        "#Define the label\n",
        "y = stroke['stroke'].values\n",
        "y"
      ],
      "metadata": {
        "colab": {
          "base_uri": "https://localhost:8080/"
        },
        "id": "9PseUS1IaTE5",
        "outputId": "30b8217e-cab3-4387-936a-5fbdff4e5985"
      },
      "execution_count": 95,
      "outputs": [
        {
          "output_type": "execute_result",
          "data": {
            "text/plain": [
              "array([1, 1, 1, ..., 0, 0, 0])"
            ]
          },
          "metadata": {},
          "execution_count": 95
        }
      ]
    },
    {
      "cell_type": "markdown",
      "source": [
        "Split the dataset into training and test sets"
      ],
      "metadata": {
        "id": "1JMGdfhMacAR"
      }
    },
    {
      "cell_type": "code",
      "source": [
        "#import the maching learning library\n",
        "from sklearn.model_selection import train_test_split\n",
        "X_train, X_test, y_train, y_test = train_test_split(X, y, test_size = 0.30, random_state = 10)"
      ],
      "metadata": {
        "id": "iL2SQvHXafvy"
      },
      "execution_count": 96,
      "outputs": []
    },
    {
      "cell_type": "markdown",
      "source": [
        "Perform feature scaling since there are many outliers in the BMI and avg_glucose_level"
      ],
      "metadata": {
        "id": "Ogpn4oa3a3gj"
      }
    },
    {
      "cell_type": "code",
      "source": [
        "from sklearn.preprocessing import StandardScaler\n",
        "sc = StandardScaler()\n",
        "X_train = sc.fit_transform(X_train)\n",
        "X_test = sc.transform(X_test)"
      ],
      "metadata": {
        "id": "_Ci6cThFbBoL"
      },
      "execution_count": 97,
      "outputs": []
    },
    {
      "cell_type": "markdown",
      "source": [
        "## Start Training the models"
      ],
      "metadata": {
        "id": "kc59cASdbRkz"
      }
    },
    {
      "cell_type": "markdown",
      "source": [
        "### KNN"
      ],
      "metadata": {
        "id": "-624qb0UcaNJ"
      }
    },
    {
      "cell_type": "markdown",
      "source": [
        "Train the KNN model with the training dataset"
      ],
      "metadata": {
        "id": "DbE8i05zcrJD"
      }
    },
    {
      "cell_type": "code",
      "source": [
        "#Import all the necessary libraries\n",
        "from sklearn.neighbors import KNeighborsClassifier\n",
        "from sklearn.naive_bayes import GaussianNB\n",
        "from sklearn.metrics import classification_report\n",
        "from sklearn.model_selection import KFold\n",
        "from sklearn.model_selection import cross_val_score\n",
        "\n",
        "#Train the KNN model\n",
        "knn = KNeighborsClassifier(n_neighbors = 5)\n",
        "knn.fit(X_train, y_train.ravel())"
      ],
      "metadata": {
        "colab": {
          "base_uri": "https://localhost:8080/"
        },
        "id": "84YHERoIcQYJ",
        "outputId": "704c6be4-0327-4ef8-9f4a-5e7ca83d9b67"
      },
      "execution_count": 98,
      "outputs": [
        {
          "output_type": "execute_result",
          "data": {
            "text/plain": [
              "KNeighborsClassifier()"
            ]
          },
          "metadata": {},
          "execution_count": 98
        }
      ]
    },
    {
      "cell_type": "markdown",
      "source": [
        "Perform a 5-Fold Cross Validation for KNN"
      ],
      "metadata": {
        "id": "LUHM_o4ucn6j"
      }
    },
    {
      "cell_type": "code",
      "source": [
        "kf = KFold(n_splits = 5)\n",
        "\n",
        "#Validate the training model based on its accuracy\n",
        "result = cross_val_score(knn, X_train, y_train.ravel(), cv = kf, scoring = 'accuracy')\n",
        "print(f'Avg accurary: {result.mean()}')"
      ],
      "metadata": {
        "colab": {
          "base_uri": "https://localhost:8080/"
        },
        "id": "aOUCtiy9c5y8",
        "outputId": "4904ede5-a65a-49e5-9476-1d3f5de8b416"
      },
      "execution_count": 99,
      "outputs": [
        {
          "output_type": "stream",
          "name": "stdout",
          "text": [
            "Avg accurary: 0.9548919298601943\n"
          ]
        }
      ]
    },
    {
      "cell_type": "markdown",
      "source": [
        "KNN - Using the model to make predictions on the test dataset"
      ],
      "metadata": {
        "id": "CfFbY89EdLsN"
      }
    },
    {
      "cell_type": "code",
      "source": [
        "#Predict the test set results\n",
        "y_pred_knn = knn.predict(X_test)"
      ],
      "metadata": {
        "id": "lVQB7ybSc_Pd"
      },
      "execution_count": 100,
      "outputs": []
    },
    {
      "cell_type": "markdown",
      "source": [
        "KNN - Classification report"
      ],
      "metadata": {
        "id": "r_FerbAKdRN-"
      }
    },
    {
      "cell_type": "code",
      "source": [
        "print(classification_report(y_test, y_pred_knn))"
      ],
      "metadata": {
        "colab": {
          "base_uri": "https://localhost:8080/"
        },
        "id": "U1m6cVXndRnW",
        "outputId": "751e1cae-1eae-451c-da6d-4f53cf459ed2"
      },
      "execution_count": 101,
      "outputs": [
        {
          "output_type": "stream",
          "name": "stdout",
          "text": [
            "              precision    recall  f1-score   support\n",
            "\n",
            "           0       0.96      1.00      0.98      1412\n",
            "           1       0.20      0.02      0.03        61\n",
            "\n",
            "    accuracy                           0.96      1473\n",
            "   macro avg       0.58      0.51      0.50      1473\n",
            "weighted avg       0.93      0.96      0.94      1473\n",
            "\n"
          ]
        }
      ]
    },
    {
      "cell_type": "markdown",
      "source": [
        "### NB"
      ],
      "metadata": {
        "id": "YR2KoMVZd-EI"
      }
    },
    {
      "cell_type": "markdown",
      "source": [
        "Train the NB model with the training dataset"
      ],
      "metadata": {
        "id": "ULv4B7Izdi_t"
      }
    },
    {
      "cell_type": "code",
      "source": [
        "#Train the NB model\n",
        "gnb = GaussianNB()\n",
        "gnb.fit(X_train, y_train.ravel())"
      ],
      "metadata": {
        "colab": {
          "base_uri": "https://localhost:8080/"
        },
        "id": "_gPwU5X2ddR2",
        "outputId": "fd285ca7-8137-48c9-9703-5c8554facf75"
      },
      "execution_count": 102,
      "outputs": [
        {
          "output_type": "execute_result",
          "data": {
            "text/plain": [
              "GaussianNB()"
            ]
          },
          "metadata": {},
          "execution_count": 102
        }
      ]
    },
    {
      "cell_type": "markdown",
      "source": [
        "Perform a 5-Fold Cross Validation for NB"
      ],
      "metadata": {
        "id": "lzpRHTrqc9tc"
      }
    },
    {
      "cell_type": "code",
      "source": [
        "#Validate the training model based on its accuracy\n",
        "result = cross_val_score(gnb, X_train, y_train.ravel(), cv = kf, scoring = 'accuracy')\n",
        "print(f'Avg accurary: {result.mean()}')"
      ],
      "metadata": {
        "colab": {
          "base_uri": "https://localhost:8080/"
        },
        "id": "FFAOdjSmc-ts",
        "outputId": "2e01bcd8-b0f7-4214-da7b-01e9f8f6cc9e"
      },
      "execution_count": 103,
      "outputs": [
        {
          "output_type": "stream",
          "name": "stdout",
          "text": [
            "Avg accurary: 0.2936372329982059\n"
          ]
        }
      ]
    },
    {
      "cell_type": "markdown",
      "source": [
        "NB - Using the model to make predictions on the test dataset"
      ],
      "metadata": {
        "id": "46rGBYM9d05K"
      }
    },
    {
      "cell_type": "code",
      "source": [
        "#Predict the test set results\n",
        "y_pred_gnb = gnb.predict(X_test)"
      ],
      "metadata": {
        "id": "d2GRSElKd1Pw"
      },
      "execution_count": 104,
      "outputs": []
    },
    {
      "cell_type": "markdown",
      "source": [
        "NB - Classification report"
      ],
      "metadata": {
        "id": "mtWGn52_d32f"
      }
    },
    {
      "cell_type": "code",
      "source": [
        "print(classification_report(y_test, y_pred_gnb))"
      ],
      "metadata": {
        "colab": {
          "base_uri": "https://localhost:8080/"
        },
        "id": "HfwvNdWyd4WP",
        "outputId": "109a6d24-fe40-4104-b5b6-2ebd8a49914d"
      },
      "execution_count": 105,
      "outputs": [
        {
          "output_type": "stream",
          "name": "stdout",
          "text": [
            "              precision    recall  f1-score   support\n",
            "\n",
            "           0       1.00      0.28      0.44      1412\n",
            "           1       0.06      1.00      0.11        61\n",
            "\n",
            "    accuracy                           0.31      1473\n",
            "   macro avg       0.53      0.64      0.28      1473\n",
            "weighted avg       0.96      0.31      0.43      1473\n",
            "\n"
          ]
        }
      ]
    },
    {
      "cell_type": "markdown",
      "source": [
        "### Logistic Regression"
      ],
      "metadata": {
        "id": "gOh9dOHZdusX"
      }
    },
    {
      "cell_type": "markdown",
      "source": [
        "Train the Logisitic Regression model with training dataset"
      ],
      "metadata": {
        "id": "n1-3mv5xCca6"
      }
    },
    {
      "cell_type": "code",
      "source": [
        "from sklearn.linear_model import LogisticRegression\n",
        "\n",
        "log_reg = LogisticRegression()\n",
        "log_reg.fit(X_train, y_train.ravel())"
      ],
      "metadata": {
        "id": "AhoqIIDNfIZL",
        "colab": {
          "base_uri": "https://localhost:8080/"
        },
        "outputId": "7eaf224a-cdc4-4d54-8235-1717b11eda7e"
      },
      "execution_count": 106,
      "outputs": [
        {
          "output_type": "execute_result",
          "data": {
            "text/plain": [
              "LogisticRegression()"
            ]
          },
          "metadata": {},
          "execution_count": 106
        }
      ]
    },
    {
      "cell_type": "markdown",
      "source": [
        "Perform a 5-Fold Cross Validation for Logistic Regression"
      ],
      "metadata": {
        "id": "qVCEyIzECugj"
      }
    },
    {
      "cell_type": "code",
      "source": [
        "#Validate the training model based on its accuracy\n",
        "result = cross_val_score(log_reg, X_train, y_train.ravel(), cv = kf, scoring = 'accuracy')\n",
        "print(f'Avg accurary: {result.mean()}')"
      ],
      "metadata": {
        "colab": {
          "base_uri": "https://localhost:8080/"
        },
        "id": "vX5hMYu9Cyr5",
        "outputId": "32ef5bd0-9087-455b-ecaf-7177b923cd00"
      },
      "execution_count": 107,
      "outputs": [
        {
          "output_type": "stream",
          "name": "stdout",
          "text": [
            "Avg accurary: 0.9569293524254426\n"
          ]
        }
      ]
    },
    {
      "cell_type": "markdown",
      "source": [
        "Log_Reg - Using the model to make predictions on the test dataset"
      ],
      "metadata": {
        "id": "P0rd_dJpDB5s"
      }
    },
    {
      "cell_type": "code",
      "source": [
        "#Predict the test set results\n",
        "y_pred_log = log_reg.predict(X_test)"
      ],
      "metadata": {
        "id": "Na_6Ugr-DGR6"
      },
      "execution_count": 108,
      "outputs": []
    },
    {
      "cell_type": "markdown",
      "source": [
        "Log_Reg - Classification report"
      ],
      "metadata": {
        "id": "yw-kCyqlDMaq"
      }
    },
    {
      "cell_type": "code",
      "source": [
        "print(classification_report(y_test, y_pred_log))"
      ],
      "metadata": {
        "colab": {
          "base_uri": "https://localhost:8080/"
        },
        "id": "QdzXaNVODOZo",
        "outputId": "c042233c-8008-424c-8651-83fcf62014b7"
      },
      "execution_count": 109,
      "outputs": [
        {
          "output_type": "stream",
          "name": "stdout",
          "text": [
            "              precision    recall  f1-score   support\n",
            "\n",
            "           0       0.96      1.00      0.98      1412\n",
            "           1       0.00      0.00      0.00        61\n",
            "\n",
            "    accuracy                           0.96      1473\n",
            "   macro avg       0.48      0.50      0.49      1473\n",
            "weighted avg       0.92      0.96      0.94      1473\n",
            "\n"
          ]
        },
        {
          "output_type": "stream",
          "name": "stderr",
          "text": [
            "/usr/local/lib/python3.7/dist-packages/sklearn/metrics/_classification.py:1318: UndefinedMetricWarning: Precision and F-score are ill-defined and being set to 0.0 in labels with no predicted samples. Use `zero_division` parameter to control this behavior.\n",
            "  _warn_prf(average, modifier, msg_start, len(result))\n",
            "/usr/local/lib/python3.7/dist-packages/sklearn/metrics/_classification.py:1318: UndefinedMetricWarning: Precision and F-score are ill-defined and being set to 0.0 in labels with no predicted samples. Use `zero_division` parameter to control this behavior.\n",
            "  _warn_prf(average, modifier, msg_start, len(result))\n",
            "/usr/local/lib/python3.7/dist-packages/sklearn/metrics/_classification.py:1318: UndefinedMetricWarning: Precision and F-score are ill-defined and being set to 0.0 in labels with no predicted samples. Use `zero_division` parameter to control this behavior.\n",
            "  _warn_prf(average, modifier, msg_start, len(result))\n"
          ]
        }
      ]
    },
    {
      "cell_type": "markdown",
      "source": [
        "### SVM"
      ],
      "metadata": {
        "id": "g_PQkZcrD9Nx"
      }
    },
    {
      "cell_type": "code",
      "source": [
        "from sklearn.svm import SVC\n",
        "from sklearn.model_selection import GridSearchCV\n",
        "\n",
        "svm_parameters = {\n",
        "                  'C': [0.001, 0.01, 0.1, 1, 10],\n",
        "                  'gamma': [0.001, 0.01, 0.1, 1],\n",
        "                  'kernel': ['linear', 'rbf', 'poly', 'sigmoid']\n",
        "                  }\n",
        "\n",
        "SVM = SVC()\n",
        "                \n",
        "clf = GridSearchCV(SVM,         # model\n",
        "                  param_grid = svm_parameters,   # hyperparameters\n",
        "                  scoring='accuracy',        # metric for scoring\n",
        "                  cv=5,                      # number of folds\n",
        "                  verbose=2)                     \n",
        "\n",
        "try:\n",
        "  clf.fit(X_train, y_train.ravel())\n",
        "except ValueError:\n",
        "  print('Incompatible Parameters')\n",
        "\n",
        "#best combination of parameters\n",
        "print(clf.best_params_)\n",
        "\n",
        "#Best CV Score \n",
        "print(clf.best_score_)"
      ],
      "metadata": {
        "colab": {
          "base_uri": "https://localhost:8080/"
        },
        "id": "hyfxURdCLHdr",
        "outputId": "3d98daeb-4bb2-401c-cd6c-0fbf59ca9811"
      },
      "execution_count": 137,
      "outputs": [
        {
          "output_type": "stream",
          "name": "stdout",
          "text": [
            "Fitting 5 folds for each of 80 candidates, totalling 400 fits\n",
            "[CV] END ................C=0.001, gamma=0.001, kernel=linear; total time=   0.0s\n",
            "[CV] END ................C=0.001, gamma=0.001, kernel=linear; total time=   0.0s\n",
            "[CV] END ................C=0.001, gamma=0.001, kernel=linear; total time=   0.0s\n",
            "[CV] END ................C=0.001, gamma=0.001, kernel=linear; total time=   0.0s\n",
            "[CV] END ................C=0.001, gamma=0.001, kernel=linear; total time=   0.0s\n",
            "[CV] END ...................C=0.001, gamma=0.001, kernel=rbf; total time=   0.1s\n",
            "[CV] END ...................C=0.001, gamma=0.001, kernel=rbf; total time=   0.1s\n",
            "[CV] END ...................C=0.001, gamma=0.001, kernel=rbf; total time=   0.1s\n",
            "[CV] END ...................C=0.001, gamma=0.001, kernel=rbf; total time=   0.1s\n",
            "[CV] END ...................C=0.001, gamma=0.001, kernel=rbf; total time=   0.1s\n",
            "[CV] END ..................C=0.001, gamma=0.001, kernel=poly; total time=   0.0s\n",
            "[CV] END ..................C=0.001, gamma=0.001, kernel=poly; total time=   0.0s\n",
            "[CV] END ..................C=0.001, gamma=0.001, kernel=poly; total time=   0.0s\n",
            "[CV] END ..................C=0.001, gamma=0.001, kernel=poly; total time=   0.0s\n",
            "[CV] END ..................C=0.001, gamma=0.001, kernel=poly; total time=   0.0s\n",
            "[CV] END ...............C=0.001, gamma=0.001, kernel=sigmoid; total time=   0.0s\n",
            "[CV] END ...............C=0.001, gamma=0.001, kernel=sigmoid; total time=   0.1s\n",
            "[CV] END ...............C=0.001, gamma=0.001, kernel=sigmoid; total time=   0.0s\n",
            "[CV] END ...............C=0.001, gamma=0.001, kernel=sigmoid; total time=   0.0s\n",
            "[CV] END ...............C=0.001, gamma=0.001, kernel=sigmoid; total time=   0.0s\n",
            "[CV] END .................C=0.001, gamma=0.01, kernel=linear; total time=   0.0s\n",
            "[CV] END .................C=0.001, gamma=0.01, kernel=linear; total time=   0.0s\n",
            "[CV] END .................C=0.001, gamma=0.01, kernel=linear; total time=   0.0s\n",
            "[CV] END .................C=0.001, gamma=0.01, kernel=linear; total time=   0.0s\n",
            "[CV] END .................C=0.001, gamma=0.01, kernel=linear; total time=   0.0s\n",
            "[CV] END ....................C=0.001, gamma=0.01, kernel=rbf; total time=   0.1s\n",
            "[CV] END ....................C=0.001, gamma=0.01, kernel=rbf; total time=   0.1s\n",
            "[CV] END ....................C=0.001, gamma=0.01, kernel=rbf; total time=   0.1s\n",
            "[CV] END ....................C=0.001, gamma=0.01, kernel=rbf; total time=   0.1s\n",
            "[CV] END ....................C=0.001, gamma=0.01, kernel=rbf; total time=   0.1s\n",
            "[CV] END ...................C=0.001, gamma=0.01, kernel=poly; total time=   0.0s\n",
            "[CV] END ...................C=0.001, gamma=0.01, kernel=poly; total time=   0.0s\n",
            "[CV] END ...................C=0.001, gamma=0.01, kernel=poly; total time=   0.0s\n",
            "[CV] END ...................C=0.001, gamma=0.01, kernel=poly; total time=   0.0s\n",
            "[CV] END ...................C=0.001, gamma=0.01, kernel=poly; total time=   0.0s\n",
            "[CV] END ................C=0.001, gamma=0.01, kernel=sigmoid; total time=   0.1s\n",
            "[CV] END ................C=0.001, gamma=0.01, kernel=sigmoid; total time=   0.1s\n",
            "[CV] END ................C=0.001, gamma=0.01, kernel=sigmoid; total time=   0.1s\n",
            "[CV] END ................C=0.001, gamma=0.01, kernel=sigmoid; total time=   0.1s\n",
            "[CV] END ................C=0.001, gamma=0.01, kernel=sigmoid; total time=   0.1s\n",
            "[CV] END ..................C=0.001, gamma=0.1, kernel=linear; total time=   0.0s\n",
            "[CV] END ..................C=0.001, gamma=0.1, kernel=linear; total time=   0.0s\n",
            "[CV] END ..................C=0.001, gamma=0.1, kernel=linear; total time=   0.0s\n",
            "[CV] END ..................C=0.001, gamma=0.1, kernel=linear; total time=   0.0s\n",
            "[CV] END ..................C=0.001, gamma=0.1, kernel=linear; total time=   0.0s\n",
            "[CV] END .....................C=0.001, gamma=0.1, kernel=rbf; total time=   0.1s\n",
            "[CV] END .....................C=0.001, gamma=0.1, kernel=rbf; total time=   0.1s\n",
            "[CV] END .....................C=0.001, gamma=0.1, kernel=rbf; total time=   0.1s\n",
            "[CV] END .....................C=0.001, gamma=0.1, kernel=rbf; total time=   0.1s\n",
            "[CV] END .....................C=0.001, gamma=0.1, kernel=rbf; total time=   0.1s\n",
            "[CV] END ....................C=0.001, gamma=0.1, kernel=poly; total time=   0.0s\n",
            "[CV] END ....................C=0.001, gamma=0.1, kernel=poly; total time=   0.1s\n",
            "[CV] END ....................C=0.001, gamma=0.1, kernel=poly; total time=   0.1s\n",
            "[CV] END ....................C=0.001, gamma=0.1, kernel=poly; total time=   0.1s\n",
            "[CV] END ....................C=0.001, gamma=0.1, kernel=poly; total time=   0.0s\n",
            "[CV] END .................C=0.001, gamma=0.1, kernel=sigmoid; total time=   0.1s\n",
            "[CV] END .................C=0.001, gamma=0.1, kernel=sigmoid; total time=   0.1s\n",
            "[CV] END .................C=0.001, gamma=0.1, kernel=sigmoid; total time=   0.1s\n",
            "[CV] END .................C=0.001, gamma=0.1, kernel=sigmoid; total time=   0.1s\n",
            "[CV] END .................C=0.001, gamma=0.1, kernel=sigmoid; total time=   0.1s\n",
            "[CV] END ....................C=0.001, gamma=1, kernel=linear; total time=   0.0s\n",
            "[CV] END ....................C=0.001, gamma=1, kernel=linear; total time=   0.0s\n",
            "[CV] END ....................C=0.001, gamma=1, kernel=linear; total time=   0.0s\n",
            "[CV] END ....................C=0.001, gamma=1, kernel=linear; total time=   0.0s\n",
            "[CV] END ....................C=0.001, gamma=1, kernel=linear; total time=   0.0s\n",
            "[CV] END .......................C=0.001, gamma=1, kernel=rbf; total time=   0.1s\n",
            "[CV] END .......................C=0.001, gamma=1, kernel=rbf; total time=   0.1s\n",
            "[CV] END .......................C=0.001, gamma=1, kernel=rbf; total time=   0.1s\n",
            "[CV] END .......................C=0.001, gamma=1, kernel=rbf; total time=   0.1s\n",
            "[CV] END .......................C=0.001, gamma=1, kernel=rbf; total time=   0.1s\n",
            "[CV] END ......................C=0.001, gamma=1, kernel=poly; total time=   0.1s\n",
            "[CV] END ......................C=0.001, gamma=1, kernel=poly; total time=   0.1s\n",
            "[CV] END ......................C=0.001, gamma=1, kernel=poly; total time=   0.1s\n",
            "[CV] END ......................C=0.001, gamma=1, kernel=poly; total time=   0.1s\n",
            "[CV] END ......................C=0.001, gamma=1, kernel=poly; total time=   0.1s\n",
            "[CV] END ...................C=0.001, gamma=1, kernel=sigmoid; total time=   0.1s\n",
            "[CV] END ...................C=0.001, gamma=1, kernel=sigmoid; total time=   0.1s\n",
            "[CV] END ...................C=0.001, gamma=1, kernel=sigmoid; total time=   0.1s\n",
            "[CV] END ...................C=0.001, gamma=1, kernel=sigmoid; total time=   0.1s\n",
            "[CV] END ...................C=0.001, gamma=1, kernel=sigmoid; total time=   0.1s\n",
            "[CV] END .................C=0.01, gamma=0.001, kernel=linear; total time=   0.0s\n",
            "[CV] END .................C=0.01, gamma=0.001, kernel=linear; total time=   0.0s\n",
            "[CV] END .................C=0.01, gamma=0.001, kernel=linear; total time=   0.0s\n",
            "[CV] END .................C=0.01, gamma=0.001, kernel=linear; total time=   0.0s\n",
            "[CV] END .................C=0.01, gamma=0.001, kernel=linear; total time=   0.0s\n",
            "[CV] END ....................C=0.01, gamma=0.001, kernel=rbf; total time=   0.1s\n",
            "[CV] END ....................C=0.01, gamma=0.001, kernel=rbf; total time=   0.1s\n",
            "[CV] END ....................C=0.01, gamma=0.001, kernel=rbf; total time=   0.1s\n",
            "[CV] END ....................C=0.01, gamma=0.001, kernel=rbf; total time=   0.1s\n",
            "[CV] END ....................C=0.01, gamma=0.001, kernel=rbf; total time=   0.1s\n",
            "[CV] END ...................C=0.01, gamma=0.001, kernel=poly; total time=   0.0s\n",
            "[CV] END ...................C=0.01, gamma=0.001, kernel=poly; total time=   0.0s\n",
            "[CV] END ...................C=0.01, gamma=0.001, kernel=poly; total time=   0.0s\n",
            "[CV] END ...................C=0.01, gamma=0.001, kernel=poly; total time=   0.0s\n",
            "[CV] END ...................C=0.01, gamma=0.001, kernel=poly; total time=   0.0s\n",
            "[CV] END ................C=0.01, gamma=0.001, kernel=sigmoid; total time=   0.0s\n",
            "[CV] END ................C=0.01, gamma=0.001, kernel=sigmoid; total time=   0.1s\n",
            "[CV] END ................C=0.01, gamma=0.001, kernel=sigmoid; total time=   0.1s\n",
            "[CV] END ................C=0.01, gamma=0.001, kernel=sigmoid; total time=   0.0s\n",
            "[CV] END ................C=0.01, gamma=0.001, kernel=sigmoid; total time=   0.0s\n",
            "[CV] END ..................C=0.01, gamma=0.01, kernel=linear; total time=   0.0s\n",
            "[CV] END ..................C=0.01, gamma=0.01, kernel=linear; total time=   0.0s\n",
            "[CV] END ..................C=0.01, gamma=0.01, kernel=linear; total time=   0.0s\n",
            "[CV] END ..................C=0.01, gamma=0.01, kernel=linear; total time=   0.0s\n",
            "[CV] END ..................C=0.01, gamma=0.01, kernel=linear; total time=   0.0s\n",
            "[CV] END .....................C=0.01, gamma=0.01, kernel=rbf; total time=   0.1s\n",
            "[CV] END .....................C=0.01, gamma=0.01, kernel=rbf; total time=   0.1s\n",
            "[CV] END .....................C=0.01, gamma=0.01, kernel=rbf; total time=   0.1s\n",
            "[CV] END .....................C=0.01, gamma=0.01, kernel=rbf; total time=   0.1s\n",
            "[CV] END .....................C=0.01, gamma=0.01, kernel=rbf; total time=   0.1s\n",
            "[CV] END ....................C=0.01, gamma=0.01, kernel=poly; total time=   0.0s\n",
            "[CV] END ....................C=0.01, gamma=0.01, kernel=poly; total time=   0.0s\n",
            "[CV] END ....................C=0.01, gamma=0.01, kernel=poly; total time=   0.0s\n",
            "[CV] END ....................C=0.01, gamma=0.01, kernel=poly; total time=   0.0s\n",
            "[CV] END ....................C=0.01, gamma=0.01, kernel=poly; total time=   0.0s\n",
            "[CV] END .................C=0.01, gamma=0.01, kernel=sigmoid; total time=   0.1s\n",
            "[CV] END .................C=0.01, gamma=0.01, kernel=sigmoid; total time=   0.1s\n",
            "[CV] END .................C=0.01, gamma=0.01, kernel=sigmoid; total time=   0.0s\n",
            "[CV] END .................C=0.01, gamma=0.01, kernel=sigmoid; total time=   0.1s\n",
            "[CV] END .................C=0.01, gamma=0.01, kernel=sigmoid; total time=   0.1s\n",
            "[CV] END ...................C=0.01, gamma=0.1, kernel=linear; total time=   0.0s\n",
            "[CV] END ...................C=0.01, gamma=0.1, kernel=linear; total time=   0.0s\n",
            "[CV] END ...................C=0.01, gamma=0.1, kernel=linear; total time=   0.0s\n",
            "[CV] END ...................C=0.01, gamma=0.1, kernel=linear; total time=   0.0s\n",
            "[CV] END ...................C=0.01, gamma=0.1, kernel=linear; total time=   0.0s\n",
            "[CV] END ......................C=0.01, gamma=0.1, kernel=rbf; total time=   0.1s\n",
            "[CV] END ......................C=0.01, gamma=0.1, kernel=rbf; total time=   0.1s\n",
            "[CV] END ......................C=0.01, gamma=0.1, kernel=rbf; total time=   0.1s\n",
            "[CV] END ......................C=0.01, gamma=0.1, kernel=rbf; total time=   0.1s\n",
            "[CV] END ......................C=0.01, gamma=0.1, kernel=rbf; total time=   0.1s\n",
            "[CV] END .....................C=0.01, gamma=0.1, kernel=poly; total time=   0.1s\n",
            "[CV] END .....................C=0.01, gamma=0.1, kernel=poly; total time=   0.1s\n",
            "[CV] END .....................C=0.01, gamma=0.1, kernel=poly; total time=   0.1s\n",
            "[CV] END .....................C=0.01, gamma=0.1, kernel=poly; total time=   0.1s\n",
            "[CV] END .....................C=0.01, gamma=0.1, kernel=poly; total time=   0.1s\n",
            "[CV] END ..................C=0.01, gamma=0.1, kernel=sigmoid; total time=   0.1s\n",
            "[CV] END ..................C=0.01, gamma=0.1, kernel=sigmoid; total time=   0.1s\n",
            "[CV] END ..................C=0.01, gamma=0.1, kernel=sigmoid; total time=   0.1s\n",
            "[CV] END ..................C=0.01, gamma=0.1, kernel=sigmoid; total time=   0.1s\n",
            "[CV] END ..................C=0.01, gamma=0.1, kernel=sigmoid; total time=   0.1s\n",
            "[CV] END .....................C=0.01, gamma=1, kernel=linear; total time=   0.0s\n",
            "[CV] END .....................C=0.01, gamma=1, kernel=linear; total time=   0.0s\n",
            "[CV] END .....................C=0.01, gamma=1, kernel=linear; total time=   0.0s\n",
            "[CV] END .....................C=0.01, gamma=1, kernel=linear; total time=   0.0s\n",
            "[CV] END .....................C=0.01, gamma=1, kernel=linear; total time=   0.0s\n",
            "[CV] END ........................C=0.01, gamma=1, kernel=rbf; total time=   0.2s\n",
            "[CV] END ........................C=0.01, gamma=1, kernel=rbf; total time=   0.2s\n",
            "[CV] END ........................C=0.01, gamma=1, kernel=rbf; total time=   0.2s\n",
            "[CV] END ........................C=0.01, gamma=1, kernel=rbf; total time=   0.2s\n",
            "[CV] END ........................C=0.01, gamma=1, kernel=rbf; total time=   0.2s\n",
            "[CV] END .......................C=0.01, gamma=1, kernel=poly; total time=   0.2s\n",
            "[CV] END .......................C=0.01, gamma=1, kernel=poly; total time=   0.2s\n",
            "[CV] END .......................C=0.01, gamma=1, kernel=poly; total time=   0.2s\n",
            "[CV] END .......................C=0.01, gamma=1, kernel=poly; total time=   0.3s\n",
            "[CV] END .......................C=0.01, gamma=1, kernel=poly; total time=   0.2s\n",
            "[CV] END ....................C=0.01, gamma=1, kernel=sigmoid; total time=   0.1s\n",
            "[CV] END ....................C=0.01, gamma=1, kernel=sigmoid; total time=   0.1s\n",
            "[CV] END ....................C=0.01, gamma=1, kernel=sigmoid; total time=   0.1s\n",
            "[CV] END ....................C=0.01, gamma=1, kernel=sigmoid; total time=   0.1s\n",
            "[CV] END ....................C=0.01, gamma=1, kernel=sigmoid; total time=   0.1s\n",
            "[CV] END ..................C=0.1, gamma=0.001, kernel=linear; total time=   0.0s\n",
            "[CV] END ..................C=0.1, gamma=0.001, kernel=linear; total time=   0.0s\n",
            "[CV] END ..................C=0.1, gamma=0.001, kernel=linear; total time=   0.0s\n",
            "[CV] END ..................C=0.1, gamma=0.001, kernel=linear; total time=   0.0s\n",
            "[CV] END ..................C=0.1, gamma=0.001, kernel=linear; total time=   0.0s\n",
            "[CV] END .....................C=0.1, gamma=0.001, kernel=rbf; total time=   0.1s\n",
            "[CV] END .....................C=0.1, gamma=0.001, kernel=rbf; total time=   0.1s\n",
            "[CV] END .....................C=0.1, gamma=0.001, kernel=rbf; total time=   0.1s\n",
            "[CV] END .....................C=0.1, gamma=0.001, kernel=rbf; total time=   0.1s\n",
            "[CV] END .....................C=0.1, gamma=0.001, kernel=rbf; total time=   0.1s\n",
            "[CV] END ....................C=0.1, gamma=0.001, kernel=poly; total time=   0.0s\n",
            "[CV] END ....................C=0.1, gamma=0.001, kernel=poly; total time=   0.0s\n",
            "[CV] END ....................C=0.1, gamma=0.001, kernel=poly; total time=   0.0s\n",
            "[CV] END ....................C=0.1, gamma=0.001, kernel=poly; total time=   0.0s\n",
            "[CV] END ....................C=0.1, gamma=0.001, kernel=poly; total time=   0.0s\n",
            "[CV] END .................C=0.1, gamma=0.001, kernel=sigmoid; total time=   0.0s\n",
            "[CV] END .................C=0.1, gamma=0.001, kernel=sigmoid; total time=   0.0s\n",
            "[CV] END .................C=0.1, gamma=0.001, kernel=sigmoid; total time=   0.1s\n",
            "[CV] END .................C=0.1, gamma=0.001, kernel=sigmoid; total time=   0.1s\n",
            "[CV] END .................C=0.1, gamma=0.001, kernel=sigmoid; total time=   0.1s\n",
            "[CV] END ...................C=0.1, gamma=0.01, kernel=linear; total time=   0.0s\n",
            "[CV] END ...................C=0.1, gamma=0.01, kernel=linear; total time=   0.0s\n",
            "[CV] END ...................C=0.1, gamma=0.01, kernel=linear; total time=   0.0s\n",
            "[CV] END ...................C=0.1, gamma=0.01, kernel=linear; total time=   0.0s\n",
            "[CV] END ...................C=0.1, gamma=0.01, kernel=linear; total time=   0.0s\n",
            "[CV] END ......................C=0.1, gamma=0.01, kernel=rbf; total time=   0.1s\n",
            "[CV] END ......................C=0.1, gamma=0.01, kernel=rbf; total time=   0.1s\n",
            "[CV] END ......................C=0.1, gamma=0.01, kernel=rbf; total time=   0.1s\n",
            "[CV] END ......................C=0.1, gamma=0.01, kernel=rbf; total time=   0.1s\n",
            "[CV] END ......................C=0.1, gamma=0.01, kernel=rbf; total time=   0.1s\n",
            "[CV] END .....................C=0.1, gamma=0.01, kernel=poly; total time=   0.0s\n",
            "[CV] END .....................C=0.1, gamma=0.01, kernel=poly; total time=   0.0s\n",
            "[CV] END .....................C=0.1, gamma=0.01, kernel=poly; total time=   0.0s\n",
            "[CV] END .....................C=0.1, gamma=0.01, kernel=poly; total time=   0.0s\n",
            "[CV] END .....................C=0.1, gamma=0.01, kernel=poly; total time=   0.0s\n",
            "[CV] END ..................C=0.1, gamma=0.01, kernel=sigmoid; total time=   0.1s\n",
            "[CV] END ..................C=0.1, gamma=0.01, kernel=sigmoid; total time=   0.1s\n",
            "[CV] END ..................C=0.1, gamma=0.01, kernel=sigmoid; total time=   0.1s\n",
            "[CV] END ..................C=0.1, gamma=0.01, kernel=sigmoid; total time=   0.1s\n",
            "[CV] END ..................C=0.1, gamma=0.01, kernel=sigmoid; total time=   0.1s\n",
            "[CV] END ....................C=0.1, gamma=0.1, kernel=linear; total time=   0.0s\n",
            "[CV] END ....................C=0.1, gamma=0.1, kernel=linear; total time=   0.0s\n",
            "[CV] END ....................C=0.1, gamma=0.1, kernel=linear; total time=   0.0s\n",
            "[CV] END ....................C=0.1, gamma=0.1, kernel=linear; total time=   0.0s\n",
            "[CV] END ....................C=0.1, gamma=0.1, kernel=linear; total time=   0.0s\n",
            "[CV] END .......................C=0.1, gamma=0.1, kernel=rbf; total time=   0.1s\n",
            "[CV] END .......................C=0.1, gamma=0.1, kernel=rbf; total time=   0.1s\n",
            "[CV] END .......................C=0.1, gamma=0.1, kernel=rbf; total time=   0.1s\n",
            "[CV] END .......................C=0.1, gamma=0.1, kernel=rbf; total time=   0.2s\n",
            "[CV] END .......................C=0.1, gamma=0.1, kernel=rbf; total time=   0.2s\n",
            "[CV] END ......................C=0.1, gamma=0.1, kernel=poly; total time=   0.1s\n",
            "[CV] END ......................C=0.1, gamma=0.1, kernel=poly; total time=   0.1s\n",
            "[CV] END ......................C=0.1, gamma=0.1, kernel=poly; total time=   0.1s\n",
            "[CV] END ......................C=0.1, gamma=0.1, kernel=poly; total time=   0.1s\n",
            "[CV] END ......................C=0.1, gamma=0.1, kernel=poly; total time=   0.1s\n",
            "[CV] END ...................C=0.1, gamma=0.1, kernel=sigmoid; total time=   0.1s\n",
            "[CV] END ...................C=0.1, gamma=0.1, kernel=sigmoid; total time=   0.1s\n",
            "[CV] END ...................C=0.1, gamma=0.1, kernel=sigmoid; total time=   0.1s\n",
            "[CV] END ...................C=0.1, gamma=0.1, kernel=sigmoid; total time=   0.1s\n",
            "[CV] END ...................C=0.1, gamma=0.1, kernel=sigmoid; total time=   0.1s\n",
            "[CV] END ......................C=0.1, gamma=1, kernel=linear; total time=   0.1s\n",
            "[CV] END ......................C=0.1, gamma=1, kernel=linear; total time=   0.1s\n",
            "[CV] END ......................C=0.1, gamma=1, kernel=linear; total time=   0.0s\n",
            "[CV] END ......................C=0.1, gamma=1, kernel=linear; total time=   0.1s\n",
            "[CV] END ......................C=0.1, gamma=1, kernel=linear; total time=   0.1s\n",
            "[CV] END .........................C=0.1, gamma=1, kernel=rbf; total time=   0.6s\n",
            "[CV] END .........................C=0.1, gamma=1, kernel=rbf; total time=   0.4s\n",
            "[CV] END .........................C=0.1, gamma=1, kernel=rbf; total time=   0.3s\n",
            "[CV] END .........................C=0.1, gamma=1, kernel=rbf; total time=   0.4s\n",
            "[CV] END .........................C=0.1, gamma=1, kernel=rbf; total time=   0.3s\n",
            "[CV] END ........................C=0.1, gamma=1, kernel=poly; total time=   0.9s\n",
            "[CV] END ........................C=0.1, gamma=1, kernel=poly; total time=   1.0s\n",
            "[CV] END ........................C=0.1, gamma=1, kernel=poly; total time=   0.7s\n",
            "[CV] END ........................C=0.1, gamma=1, kernel=poly; total time=   1.0s\n",
            "[CV] END ........................C=0.1, gamma=1, kernel=poly; total time=   1.1s\n",
            "[CV] END .....................C=0.1, gamma=1, kernel=sigmoid; total time=   0.1s\n",
            "[CV] END .....................C=0.1, gamma=1, kernel=sigmoid; total time=   0.1s\n",
            "[CV] END .....................C=0.1, gamma=1, kernel=sigmoid; total time=   0.1s\n",
            "[CV] END .....................C=0.1, gamma=1, kernel=sigmoid; total time=   0.1s\n",
            "[CV] END .....................C=0.1, gamma=1, kernel=sigmoid; total time=   0.1s\n",
            "[CV] END ....................C=1, gamma=0.001, kernel=linear; total time=   0.0s\n",
            "[CV] END ....................C=1, gamma=0.001, kernel=linear; total time=   0.0s\n",
            "[CV] END ....................C=1, gamma=0.001, kernel=linear; total time=   0.0s\n",
            "[CV] END ....................C=1, gamma=0.001, kernel=linear; total time=   0.0s\n",
            "[CV] END ....................C=1, gamma=0.001, kernel=linear; total time=   0.0s\n",
            "[CV] END .......................C=1, gamma=0.001, kernel=rbf; total time=   0.1s\n",
            "[CV] END .......................C=1, gamma=0.001, kernel=rbf; total time=   0.1s\n",
            "[CV] END .......................C=1, gamma=0.001, kernel=rbf; total time=   0.1s\n",
            "[CV] END .......................C=1, gamma=0.001, kernel=rbf; total time=   0.1s\n",
            "[CV] END .......................C=1, gamma=0.001, kernel=rbf; total time=   0.1s\n",
            "[CV] END ......................C=1, gamma=0.001, kernel=poly; total time=   0.0s\n",
            "[CV] END ......................C=1, gamma=0.001, kernel=poly; total time=   0.0s\n",
            "[CV] END ......................C=1, gamma=0.001, kernel=poly; total time=   0.0s\n",
            "[CV] END ......................C=1, gamma=0.001, kernel=poly; total time=   0.0s\n",
            "[CV] END ......................C=1, gamma=0.001, kernel=poly; total time=   0.0s\n",
            "[CV] END ...................C=1, gamma=0.001, kernel=sigmoid; total time=   0.1s\n",
            "[CV] END ...................C=1, gamma=0.001, kernel=sigmoid; total time=   0.1s\n",
            "[CV] END ...................C=1, gamma=0.001, kernel=sigmoid; total time=   0.1s\n",
            "[CV] END ...................C=1, gamma=0.001, kernel=sigmoid; total time=   0.1s\n",
            "[CV] END ...................C=1, gamma=0.001, kernel=sigmoid; total time=   0.1s\n",
            "[CV] END .....................C=1, gamma=0.01, kernel=linear; total time=   0.0s\n",
            "[CV] END .....................C=1, gamma=0.01, kernel=linear; total time=   0.0s\n",
            "[CV] END .....................C=1, gamma=0.01, kernel=linear; total time=   0.0s\n",
            "[CV] END .....................C=1, gamma=0.01, kernel=linear; total time=   0.0s\n",
            "[CV] END .....................C=1, gamma=0.01, kernel=linear; total time=   0.0s\n",
            "[CV] END ........................C=1, gamma=0.01, kernel=rbf; total time=   0.1s\n",
            "[CV] END ........................C=1, gamma=0.01, kernel=rbf; total time=   0.1s\n",
            "[CV] END ........................C=1, gamma=0.01, kernel=rbf; total time=   0.1s\n",
            "[CV] END ........................C=1, gamma=0.01, kernel=rbf; total time=   0.2s\n",
            "[CV] END ........................C=1, gamma=0.01, kernel=rbf; total time=   0.1s\n",
            "[CV] END .......................C=1, gamma=0.01, kernel=poly; total time=   0.1s\n",
            "[CV] END .......................C=1, gamma=0.01, kernel=poly; total time=   0.1s\n",
            "[CV] END .......................C=1, gamma=0.01, kernel=poly; total time=   0.1s\n",
            "[CV] END .......................C=1, gamma=0.01, kernel=poly; total time=   0.1s\n",
            "[CV] END .......................C=1, gamma=0.01, kernel=poly; total time=   0.0s\n",
            "[CV] END ....................C=1, gamma=0.01, kernel=sigmoid; total time=   0.1s\n",
            "[CV] END ....................C=1, gamma=0.01, kernel=sigmoid; total time=   0.1s\n",
            "[CV] END ....................C=1, gamma=0.01, kernel=sigmoid; total time=   0.1s\n",
            "[CV] END ....................C=1, gamma=0.01, kernel=sigmoid; total time=   0.1s\n",
            "[CV] END ....................C=1, gamma=0.01, kernel=sigmoid; total time=   0.1s\n",
            "[CV] END ......................C=1, gamma=0.1, kernel=linear; total time=   0.0s\n",
            "[CV] END ......................C=1, gamma=0.1, kernel=linear; total time=   0.0s\n",
            "[CV] END ......................C=1, gamma=0.1, kernel=linear; total time=   0.0s\n",
            "[CV] END ......................C=1, gamma=0.1, kernel=linear; total time=   0.0s\n",
            "[CV] END ......................C=1, gamma=0.1, kernel=linear; total time=   0.0s\n",
            "[CV] END .........................C=1, gamma=0.1, kernel=rbf; total time=   0.1s\n",
            "[CV] END .........................C=1, gamma=0.1, kernel=rbf; total time=   0.1s\n",
            "[CV] END .........................C=1, gamma=0.1, kernel=rbf; total time=   0.1s\n",
            "[CV] END .........................C=1, gamma=0.1, kernel=rbf; total time=   0.1s\n",
            "[CV] END .........................C=1, gamma=0.1, kernel=rbf; total time=   0.1s\n",
            "[CV] END ........................C=1, gamma=0.1, kernel=poly; total time=   0.1s\n",
            "[CV] END ........................C=1, gamma=0.1, kernel=poly; total time=   0.1s\n",
            "[CV] END ........................C=1, gamma=0.1, kernel=poly; total time=   0.1s\n",
            "[CV] END ........................C=1, gamma=0.1, kernel=poly; total time=   0.1s\n",
            "[CV] END ........................C=1, gamma=0.1, kernel=poly; total time=   0.1s\n",
            "[CV] END .....................C=1, gamma=0.1, kernel=sigmoid; total time=   0.1s\n",
            "[CV] END .....................C=1, gamma=0.1, kernel=sigmoid; total time=   0.1s\n",
            "[CV] END .....................C=1, gamma=0.1, kernel=sigmoid; total time=   0.1s\n",
            "[CV] END .....................C=1, gamma=0.1, kernel=sigmoid; total time=   0.1s\n",
            "[CV] END .....................C=1, gamma=0.1, kernel=sigmoid; total time=   0.1s\n",
            "[CV] END ........................C=1, gamma=1, kernel=linear; total time=   0.0s\n",
            "[CV] END ........................C=1, gamma=1, kernel=linear; total time=   0.0s\n",
            "[CV] END ........................C=1, gamma=1, kernel=linear; total time=   0.0s\n",
            "[CV] END ........................C=1, gamma=1, kernel=linear; total time=   0.1s\n",
            "[CV] END ........................C=1, gamma=1, kernel=linear; total time=   0.0s\n",
            "[CV] END ...........................C=1, gamma=1, kernel=rbf; total time=   0.4s\n",
            "[CV] END ...........................C=1, gamma=1, kernel=rbf; total time=   0.4s\n",
            "[CV] END ...........................C=1, gamma=1, kernel=rbf; total time=   0.4s\n",
            "[CV] END ...........................C=1, gamma=1, kernel=rbf; total time=   0.4s\n",
            "[CV] END ...........................C=1, gamma=1, kernel=rbf; total time=   0.4s\n",
            "[CV] END ..........................C=1, gamma=1, kernel=poly; total time=   6.6s\n",
            "[CV] END ..........................C=1, gamma=1, kernel=poly; total time=   6.0s\n",
            "[CV] END ..........................C=1, gamma=1, kernel=poly; total time=  13.4s\n",
            "[CV] END ..........................C=1, gamma=1, kernel=poly; total time=   6.3s\n",
            "[CV] END ..........................C=1, gamma=1, kernel=poly; total time=   2.5s\n",
            "[CV] END .......................C=1, gamma=1, kernel=sigmoid; total time=   0.1s\n",
            "[CV] END .......................C=1, gamma=1, kernel=sigmoid; total time=   0.1s\n",
            "[CV] END .......................C=1, gamma=1, kernel=sigmoid; total time=   0.1s\n",
            "[CV] END .......................C=1, gamma=1, kernel=sigmoid; total time=   0.1s\n",
            "[CV] END .......................C=1, gamma=1, kernel=sigmoid; total time=   0.1s\n",
            "[CV] END ...................C=10, gamma=0.001, kernel=linear; total time=   0.1s\n",
            "[CV] END ...................C=10, gamma=0.001, kernel=linear; total time=   0.1s\n",
            "[CV] END ...................C=10, gamma=0.001, kernel=linear; total time=   0.1s\n",
            "[CV] END ...................C=10, gamma=0.001, kernel=linear; total time=   0.1s\n",
            "[CV] END ...................C=10, gamma=0.001, kernel=linear; total time=   0.1s\n",
            "[CV] END ......................C=10, gamma=0.001, kernel=rbf; total time=   0.2s\n",
            "[CV] END ......................C=10, gamma=0.001, kernel=rbf; total time=   0.2s\n",
            "[CV] END ......................C=10, gamma=0.001, kernel=rbf; total time=   0.2s\n",
            "[CV] END ......................C=10, gamma=0.001, kernel=rbf; total time=   0.2s\n",
            "[CV] END ......................C=10, gamma=0.001, kernel=rbf; total time=   0.1s\n",
            "[CV] END .....................C=10, gamma=0.001, kernel=poly; total time=   0.0s\n",
            "[CV] END .....................C=10, gamma=0.001, kernel=poly; total time=   0.0s\n",
            "[CV] END .....................C=10, gamma=0.001, kernel=poly; total time=   0.0s\n",
            "[CV] END .....................C=10, gamma=0.001, kernel=poly; total time=   0.0s\n",
            "[CV] END .....................C=10, gamma=0.001, kernel=poly; total time=   0.0s\n",
            "[CV] END ..................C=10, gamma=0.001, kernel=sigmoid; total time=   0.1s\n",
            "[CV] END ..................C=10, gamma=0.001, kernel=sigmoid; total time=   0.1s\n",
            "[CV] END ..................C=10, gamma=0.001, kernel=sigmoid; total time=   0.1s\n",
            "[CV] END ..................C=10, gamma=0.001, kernel=sigmoid; total time=   0.1s\n",
            "[CV] END ..................C=10, gamma=0.001, kernel=sigmoid; total time=   0.1s\n",
            "[CV] END ....................C=10, gamma=0.01, kernel=linear; total time=   0.1s\n",
            "[CV] END ....................C=10, gamma=0.01, kernel=linear; total time=   0.1s\n",
            "[CV] END ....................C=10, gamma=0.01, kernel=linear; total time=   0.1s\n",
            "[CV] END ....................C=10, gamma=0.01, kernel=linear; total time=   0.1s\n",
            "[CV] END ....................C=10, gamma=0.01, kernel=linear; total time=   0.1s\n",
            "[CV] END .......................C=10, gamma=0.01, kernel=rbf; total time=   0.2s\n",
            "[CV] END .......................C=10, gamma=0.01, kernel=rbf; total time=   0.2s\n",
            "[CV] END .......................C=10, gamma=0.01, kernel=rbf; total time=   0.2s\n",
            "[CV] END .......................C=10, gamma=0.01, kernel=rbf; total time=   0.8s\n",
            "[CV] END .......................C=10, gamma=0.01, kernel=rbf; total time=   0.1s\n",
            "[CV] END ......................C=10, gamma=0.01, kernel=poly; total time=   0.1s\n",
            "[CV] END ......................C=10, gamma=0.01, kernel=poly; total time=   0.1s\n",
            "[CV] END ......................C=10, gamma=0.01, kernel=poly; total time=   0.1s\n",
            "[CV] END ......................C=10, gamma=0.01, kernel=poly; total time=   0.1s\n",
            "[CV] END ......................C=10, gamma=0.01, kernel=poly; total time=   0.1s\n",
            "[CV] END ...................C=10, gamma=0.01, kernel=sigmoid; total time=   0.3s\n",
            "[CV] END ...................C=10, gamma=0.01, kernel=sigmoid; total time=   0.4s\n",
            "[CV] END ...................C=10, gamma=0.01, kernel=sigmoid; total time=   0.1s\n",
            "[CV] END ...................C=10, gamma=0.01, kernel=sigmoid; total time=   0.1s\n",
            "[CV] END ...................C=10, gamma=0.01, kernel=sigmoid; total time=   0.1s\n",
            "[CV] END .....................C=10, gamma=0.1, kernel=linear; total time=   0.1s\n",
            "[CV] END .....................C=10, gamma=0.1, kernel=linear; total time=   0.1s\n",
            "[CV] END .....................C=10, gamma=0.1, kernel=linear; total time=   0.1s\n",
            "[CV] END .....................C=10, gamma=0.1, kernel=linear; total time=   0.1s\n",
            "[CV] END .....................C=10, gamma=0.1, kernel=linear; total time=   0.1s\n",
            "[CV] END ........................C=10, gamma=0.1, kernel=rbf; total time=   0.1s\n",
            "[CV] END ........................C=10, gamma=0.1, kernel=rbf; total time=   0.1s\n",
            "[CV] END ........................C=10, gamma=0.1, kernel=rbf; total time=   0.1s\n",
            "[CV] END ........................C=10, gamma=0.1, kernel=rbf; total time=   0.1s\n",
            "[CV] END ........................C=10, gamma=0.1, kernel=rbf; total time=   0.1s\n",
            "[CV] END .......................C=10, gamma=0.1, kernel=poly; total time=   0.2s\n",
            "[CV] END .......................C=10, gamma=0.1, kernel=poly; total time=   0.2s\n",
            "[CV] END .......................C=10, gamma=0.1, kernel=poly; total time=   0.2s\n",
            "[CV] END .......................C=10, gamma=0.1, kernel=poly; total time=   0.3s\n",
            "[CV] END .......................C=10, gamma=0.1, kernel=poly; total time=   0.2s\n",
            "[CV] END ....................C=10, gamma=0.1, kernel=sigmoid; total time=   0.1s\n",
            "[CV] END ....................C=10, gamma=0.1, kernel=sigmoid; total time=   0.1s\n",
            "[CV] END ....................C=10, gamma=0.1, kernel=sigmoid; total time=   0.1s\n",
            "[CV] END ....................C=10, gamma=0.1, kernel=sigmoid; total time=   0.1s\n",
            "[CV] END ....................C=10, gamma=0.1, kernel=sigmoid; total time=   0.1s\n",
            "[CV] END .......................C=10, gamma=1, kernel=linear; total time=   0.1s\n",
            "[CV] END .......................C=10, gamma=1, kernel=linear; total time=   0.1s\n",
            "[CV] END .......................C=10, gamma=1, kernel=linear; total time=   0.1s\n",
            "[CV] END .......................C=10, gamma=1, kernel=linear; total time=   0.1s\n",
            "[CV] END .......................C=10, gamma=1, kernel=linear; total time=   0.1s\n",
            "[CV] END ..........................C=10, gamma=1, kernel=rbf; total time=   0.3s\n",
            "[CV] END ..........................C=10, gamma=1, kernel=rbf; total time=   0.3s\n",
            "[CV] END ..........................C=10, gamma=1, kernel=rbf; total time=   0.4s\n",
            "[CV] END ..........................C=10, gamma=1, kernel=rbf; total time=   0.4s\n",
            "[CV] END ..........................C=10, gamma=1, kernel=rbf; total time=   0.4s\n",
            "[CV] END .........................C=10, gamma=1, kernel=poly; total time=  37.5s\n",
            "[CV] END .........................C=10, gamma=1, kernel=poly; total time=  29.2s\n",
            "[CV] END .........................C=10, gamma=1, kernel=poly; total time= 1.2min\n",
            "[CV] END .........................C=10, gamma=1, kernel=poly; total time=  48.5s\n",
            "[CV] END .........................C=10, gamma=1, kernel=poly; total time=  13.3s\n",
            "[CV] END ......................C=10, gamma=1, kernel=sigmoid; total time=   0.1s\n",
            "[CV] END ......................C=10, gamma=1, kernel=sigmoid; total time=   0.1s\n",
            "[CV] END ......................C=10, gamma=1, kernel=sigmoid; total time=   0.1s\n",
            "[CV] END ......................C=10, gamma=1, kernel=sigmoid; total time=   0.1s\n",
            "[CV] END ......................C=10, gamma=1, kernel=sigmoid; total time=   0.1s\n",
            "{'C': 0.1, 'gamma': 0.1, 'kernel': 'sigmoid'}\n",
            "0.9569272367218442\n"
          ]
        }
      ]
    },
    {
      "cell_type": "markdown",
      "source": [
        "Train the SVM model with training dataset"
      ],
      "metadata": {
        "id": "4UgbOX3cELg8"
      }
    },
    {
      "cell_type": "code",
      "source": [
        "from sklearn import svm\n",
        "\n",
        "linear = svm.SVC(kernel='linear', C=1, decision_function_shape='ovo').fit(X_train, y_train.ravel())\n",
        "rbf = svm.SVC(kernel='rbf', gamma=1, C=1, decision_function_shape='ovo').fit(X_train, y_train.ravel())\n",
        "poly = svm.SVC(kernel='poly', degree=3, C=1, decision_function_shape='ovo').fit(X_train, y_train.ravel())\n",
        "sig = svm.SVC(kernel='sigmoid', C=0.1, gamma=0.1, decision_function_shape='ovo').fit(X_train, y_train.ravel())"
      ],
      "metadata": {
        "id": "E4pprzyOECCG"
      },
      "execution_count": 134,
      "outputs": []
    },
    {
      "cell_type": "markdown",
      "source": [
        "Perform a 5-Fold Cross Validation for SVM"
      ],
      "metadata": {
        "id": "T3Q11VW6ETS8"
      }
    },
    {
      "cell_type": "code",
      "source": [
        "#Validate the training model based on its accuracy\n",
        "#Linear kernel\n",
        "result = cross_val_score(linear, X_train, y_train.ravel(), cv = kf, scoring = 'accuracy')\n",
        "print(f'Avg accurary: {result.mean()}')"
      ],
      "metadata": {
        "colab": {
          "base_uri": "https://localhost:8080/"
        },
        "id": "YyUzjWJtETyH",
        "outputId": "211fb95a-b5bf-4959-da18-25970dfdb042"
      },
      "execution_count": 111,
      "outputs": [
        {
          "output_type": "stream",
          "name": "stdout",
          "text": [
            "Avg accurary: 0.9569297755661623\n"
          ]
        }
      ]
    },
    {
      "cell_type": "code",
      "source": [
        "#Radial Basis Function kernel\n",
        "result = cross_val_score(rbf, X_train, y_train.ravel(), cv = kf, scoring = 'accuracy')\n",
        "print(f'Avg accurary: {result.mean()}')"
      ],
      "metadata": {
        "colab": {
          "base_uri": "https://localhost:8080/"
        },
        "id": "u0aFK7LGEjeC",
        "outputId": "a2337e14-8a5d-4931-d39f-9319f7d38d11"
      },
      "execution_count": 112,
      "outputs": [
        {
          "output_type": "stream",
          "name": "stdout",
          "text": [
            "Avg accurary: 0.9560564131207474\n"
          ]
        }
      ]
    },
    {
      "cell_type": "code",
      "source": [
        "#Polynomial kernel\n",
        "result = cross_val_score(poly, X_train, y_train.ravel(), cv = kf, scoring = 'accuracy')\n",
        "print(f'Avg accurary: {result.mean()}')"
      ],
      "metadata": {
        "colab": {
          "base_uri": "https://localhost:8080/"
        },
        "id": "d6LE0MF_Eod7",
        "outputId": "4ae16d47-0ade-4800-b828-75d24c7a9196"
      },
      "execution_count": 113,
      "outputs": [
        {
          "output_type": "stream",
          "name": "stdout",
          "text": [
            "Avg accurary: 0.9546008090450562\n"
          ]
        }
      ]
    },
    {
      "cell_type": "code",
      "source": [
        "#Sigmoid kernel\n",
        "result = cross_val_score(sig, X_train, y_train.ravel(), cv = kf, scoring = 'accuracy')\n",
        "print(f'Avg accurary: {result.mean()}')"
      ],
      "metadata": {
        "colab": {
          "base_uri": "https://localhost:8080/"
        },
        "id": "wMIiBxAvEyIT",
        "outputId": "311e56d4-c699-49a6-8fa8-dff10cd9373f"
      },
      "execution_count": 135,
      "outputs": [
        {
          "output_type": "stream",
          "name": "stdout",
          "text": [
            "Avg accurary: 0.9560564131207474\n"
          ]
        }
      ]
    },
    {
      "cell_type": "markdown",
      "source": [
        "SVM - Using the model to make predictions on the test dataset and print classification report"
      ],
      "metadata": {
        "id": "jmfBvP_pE-wb"
      }
    },
    {
      "cell_type": "code",
      "source": [
        "#Linear kernel\n",
        "svm_linear_pred = linear.predict(X_test)\n",
        "\n",
        "print(classification_report(y_test, svm_linear_pred))"
      ],
      "metadata": {
        "colab": {
          "base_uri": "https://localhost:8080/"
        },
        "id": "4IHhYyVIFA9k",
        "outputId": "c19a554a-535e-4d70-95ab-0c9f10a6354b"
      },
      "execution_count": 115,
      "outputs": [
        {
          "output_type": "stream",
          "name": "stdout",
          "text": [
            "              precision    recall  f1-score   support\n",
            "\n",
            "           0       0.96      1.00      0.98      1412\n",
            "           1       0.00      0.00      0.00        61\n",
            "\n",
            "    accuracy                           0.96      1473\n",
            "   macro avg       0.48      0.50      0.49      1473\n",
            "weighted avg       0.92      0.96      0.94      1473\n",
            "\n"
          ]
        },
        {
          "output_type": "stream",
          "name": "stderr",
          "text": [
            "/usr/local/lib/python3.7/dist-packages/sklearn/metrics/_classification.py:1318: UndefinedMetricWarning: Precision and F-score are ill-defined and being set to 0.0 in labels with no predicted samples. Use `zero_division` parameter to control this behavior.\n",
            "  _warn_prf(average, modifier, msg_start, len(result))\n",
            "/usr/local/lib/python3.7/dist-packages/sklearn/metrics/_classification.py:1318: UndefinedMetricWarning: Precision and F-score are ill-defined and being set to 0.0 in labels with no predicted samples. Use `zero_division` parameter to control this behavior.\n",
            "  _warn_prf(average, modifier, msg_start, len(result))\n",
            "/usr/local/lib/python3.7/dist-packages/sklearn/metrics/_classification.py:1318: UndefinedMetricWarning: Precision and F-score are ill-defined and being set to 0.0 in labels with no predicted samples. Use `zero_division` parameter to control this behavior.\n",
            "  _warn_prf(average, modifier, msg_start, len(result))\n"
          ]
        }
      ]
    },
    {
      "cell_type": "code",
      "source": [
        "#Radial Basis Function kernel\n",
        "svm_rbf_pred = rbf.predict(X_test)\n",
        "\n",
        "print(classification_report(y_test, svm_rbf_pred))"
      ],
      "metadata": {
        "colab": {
          "base_uri": "https://localhost:8080/"
        },
        "id": "c-vDttgTFf6p",
        "outputId": "0287180c-ffd5-4f53-e6b0-a7300703327b"
      },
      "execution_count": 116,
      "outputs": [
        {
          "output_type": "stream",
          "name": "stdout",
          "text": [
            "              precision    recall  f1-score   support\n",
            "\n",
            "           0       0.96      1.00      0.98      1412\n",
            "           1       0.00      0.00      0.00        61\n",
            "\n",
            "    accuracy                           0.96      1473\n",
            "   macro avg       0.48      0.50      0.49      1473\n",
            "weighted avg       0.92      0.96      0.94      1473\n",
            "\n"
          ]
        }
      ]
    },
    {
      "cell_type": "code",
      "source": [
        "#Polynomial kernel\n",
        "svm_poly_pred = poly.predict(X_test)\n",
        "\n",
        "print(classification_report(y_test, svm_poly_pred))"
      ],
      "metadata": {
        "colab": {
          "base_uri": "https://localhost:8080/"
        },
        "id": "CgnfmlLfFReP",
        "outputId": "a0cf4261-7d24-4b9c-9b29-ccf598eaad03"
      },
      "execution_count": 117,
      "outputs": [
        {
          "output_type": "stream",
          "name": "stdout",
          "text": [
            "              precision    recall  f1-score   support\n",
            "\n",
            "           0       0.96      1.00      0.98      1412\n",
            "           1       0.17      0.02      0.03        61\n",
            "\n",
            "    accuracy                           0.96      1473\n",
            "   macro avg       0.56      0.51      0.50      1473\n",
            "weighted avg       0.93      0.96      0.94      1473\n",
            "\n"
          ]
        }
      ]
    },
    {
      "cell_type": "code",
      "source": [
        "#Sigmoid kernel\n",
        "svm_sig_pred = sig.predict(X_test)\n",
        "\n",
        "print(classification_report(y_test, svm_sig_pred))"
      ],
      "metadata": {
        "colab": {
          "base_uri": "https://localhost:8080/"
        },
        "id": "87Je-ClOFT-s",
        "outputId": "f448ec7d-72b4-486d-d40b-dcccdbf94915"
      },
      "execution_count": 136,
      "outputs": [
        {
          "output_type": "stream",
          "name": "stdout",
          "text": [
            "              precision    recall  f1-score   support\n",
            "\n",
            "           0       0.96      1.00      0.98      1412\n",
            "           1       0.00      0.00      0.00        61\n",
            "\n",
            "    accuracy                           0.95      1473\n",
            "   macro avg       0.48      0.50      0.49      1473\n",
            "weighted avg       0.92      0.95      0.94      1473\n",
            "\n"
          ]
        }
      ]
    },
    {
      "cell_type": "markdown",
      "source": [
        "### Decision Tree"
      ],
      "metadata": {
        "id": "j5rXOeHmFtlX"
      }
    },
    {
      "cell_type": "markdown",
      "source": [
        "Train the Decision Tree model with training dataset"
      ],
      "metadata": {
        "id": "bi_mFpoxF89A"
      }
    },
    {
      "cell_type": "code",
      "source": [
        "from sklearn.tree import DecisionTreeClassifier\n",
        "\n",
        "dt = DecisionTreeClassifier()\n",
        "dt.fit(X_train, y_train.ravel())"
      ],
      "metadata": {
        "colab": {
          "base_uri": "https://localhost:8080/"
        },
        "id": "KSfJrp3bF6lX",
        "outputId": "9214a345-eb78-4b15-b1fe-fb57d41b5c83"
      },
      "execution_count": 120,
      "outputs": [
        {
          "output_type": "execute_result",
          "data": {
            "text/plain": [
              "DecisionTreeClassifier()"
            ]
          },
          "metadata": {},
          "execution_count": 120
        }
      ]
    },
    {
      "cell_type": "markdown",
      "source": [
        "Get the parameters of the Decision Tree"
      ],
      "metadata": {
        "id": "yj0erKo3GN1f"
      }
    },
    {
      "cell_type": "code",
      "source": [
        "dt.get_params()"
      ],
      "metadata": {
        "colab": {
          "base_uri": "https://localhost:8080/"
        },
        "id": "zT_6QGQMGd3c",
        "outputId": "67af72ba-61a9-4f1f-9abf-6f270d3b5eac"
      },
      "execution_count": 121,
      "outputs": [
        {
          "output_type": "execute_result",
          "data": {
            "text/plain": [
              "{'ccp_alpha': 0.0,\n",
              " 'class_weight': None,\n",
              " 'criterion': 'gini',\n",
              " 'max_depth': None,\n",
              " 'max_features': None,\n",
              " 'max_leaf_nodes': None,\n",
              " 'min_impurity_decrease': 0.0,\n",
              " 'min_samples_leaf': 1,\n",
              " 'min_samples_split': 2,\n",
              " 'min_weight_fraction_leaf': 0.0,\n",
              " 'random_state': None,\n",
              " 'splitter': 'best'}"
            ]
          },
          "metadata": {},
          "execution_count": 121
        }
      ]
    },
    {
      "cell_type": "markdown",
      "source": [
        "Perform a 5-Fold Cross Validation for Decision Tree"
      ],
      "metadata": {
        "id": "V2b0zCVuGMLZ"
      }
    },
    {
      "cell_type": "code",
      "source": [
        "#Validate the training model based on its accuracy\n",
        "result = cross_val_score(dt, X_train, y_train.ravel(), cv = kf, scoring = 'accuracy')\n",
        "print(f'Avg accurary: {result.mean()}')"
      ],
      "metadata": {
        "colab": {
          "base_uri": "https://localhost:8080/"
        },
        "id": "Sp06g43yGOrb",
        "outputId": "9e10b88f-4ba2-4575-c0fe-294893c2adcd"
      },
      "execution_count": 122,
      "outputs": [
        {
          "output_type": "stream",
          "name": "stdout",
          "text": [
            "Avg accurary: 0.9185119833451812\n"
          ]
        }
      ]
    },
    {
      "cell_type": "markdown",
      "source": [
        "Decision Tree - Using the model to make predictions on the test dataset"
      ],
      "metadata": {
        "id": "_DeUq4CbGk3o"
      }
    },
    {
      "cell_type": "code",
      "source": [
        "#Predict the test set results\n",
        "y_pred_dt = dt.predict(X_test)"
      ],
      "metadata": {
        "id": "SlunPOLEGnGg"
      },
      "execution_count": 123,
      "outputs": []
    },
    {
      "cell_type": "markdown",
      "source": [
        "Decision Tree - Classification report"
      ],
      "metadata": {
        "id": "zOvSuzn-G2FK"
      }
    },
    {
      "cell_type": "code",
      "source": [
        "print(classification_report(y_test, y_pred_dt))"
      ],
      "metadata": {
        "colab": {
          "base_uri": "https://localhost:8080/"
        },
        "id": "1Hw4Q3cCG30w",
        "outputId": "3bdd141c-60b1-461a-83e6-ac44066404c1"
      },
      "execution_count": 124,
      "outputs": [
        {
          "output_type": "stream",
          "name": "stdout",
          "text": [
            "              precision    recall  f1-score   support\n",
            "\n",
            "           0       0.96      0.96      0.96      1412\n",
            "           1       0.15      0.18      0.16        61\n",
            "\n",
            "    accuracy                           0.92      1473\n",
            "   macro avg       0.56      0.57      0.56      1473\n",
            "weighted avg       0.93      0.92      0.93      1473\n",
            "\n"
          ]
        }
      ]
    },
    {
      "cell_type": "markdown",
      "source": [
        "Feature Importance "
      ],
      "metadata": {
        "id": "DGaMlidtIY3O"
      }
    },
    {
      "cell_type": "code",
      "source": [
        "dt.feature_importances_"
      ],
      "metadata": {
        "colab": {
          "base_uri": "https://localhost:8080/"
        },
        "id": "1nWI1QR1IfAd",
        "outputId": "65d3068c-6b69-44b0-8be3-cebccbd8db26"
      },
      "execution_count": 125,
      "outputs": [
        {
          "output_type": "execute_result",
          "data": {
            "text/plain": [
              "array([0.21254483, 0.05227997, 0.00942615, 0.00962676, 0.02386512,\n",
              "       0.26395023, 0.25795743, 0.01622324, 0.02533078, 0.        ,\n",
              "       0.01439374, 0.        , 0.02062552, 0.01178955, 0.        ,\n",
              "       0.00886946, 0.01124295, 0.02545382, 0.03642044])"
            ]
          },
          "metadata": {},
          "execution_count": 125
        }
      ]
    },
    {
      "cell_type": "code",
      "source": [
        "X = stroke.drop(['stroke'], axis = 1)\n",
        "feature_names = X.columns"
      ],
      "metadata": {
        "id": "zR3IA5WQIhOc"
      },
      "execution_count": 126,
      "outputs": []
    },
    {
      "cell_type": "code",
      "source": [
        "feature_importance = pd.DataFrame(dt.feature_importances_, index = feature_names).sort_values(0, ascending = False)\n",
        "feature_importance"
      ],
      "metadata": {
        "colab": {
          "base_uri": "https://localhost:8080/",
          "height": 645
        },
        "id": "4NjBB9mwItul",
        "outputId": "3fcc72c2-b314-4328-d9dd-efe4871f0657"
      },
      "execution_count": 127,
      "outputs": [
        {
          "output_type": "execute_result",
          "data": {
            "text/plain": [
              "                          0\n",
              "avg_glucose_level  0.263950\n",
              "bmi                0.257957\n",
              "age                0.212545\n",
              "hypertension       0.052280\n",
              "smokes             0.036420\n",
              "never smoked       0.025454\n",
              "Male               0.025331\n",
              "Residence_type     0.023865\n",
              "Private            0.020626\n",
              "Female             0.016223\n",
              "Govt_job           0.014394\n",
              "Self-employed      0.011790\n",
              "formerly smoked    0.011243\n",
              "ever_married       0.009627\n",
              "heart_disease      0.009426\n",
              "Unknown            0.008869\n",
              "Never_worked       0.000000\n",
              "children           0.000000\n",
              "Other              0.000000"
            ],
            "text/html": [
              "\n",
              "  <div id=\"df-0d473118-93af-4f32-8f45-712dd3c71620\">\n",
              "    <div class=\"colab-df-container\">\n",
              "      <div>\n",
              "<style scoped>\n",
              "    .dataframe tbody tr th:only-of-type {\n",
              "        vertical-align: middle;\n",
              "    }\n",
              "\n",
              "    .dataframe tbody tr th {\n",
              "        vertical-align: top;\n",
              "    }\n",
              "\n",
              "    .dataframe thead th {\n",
              "        text-align: right;\n",
              "    }\n",
              "</style>\n",
              "<table border=\"1\" class=\"dataframe\">\n",
              "  <thead>\n",
              "    <tr style=\"text-align: right;\">\n",
              "      <th></th>\n",
              "      <th>0</th>\n",
              "    </tr>\n",
              "  </thead>\n",
              "  <tbody>\n",
              "    <tr>\n",
              "      <th>avg_glucose_level</th>\n",
              "      <td>0.263950</td>\n",
              "    </tr>\n",
              "    <tr>\n",
              "      <th>bmi</th>\n",
              "      <td>0.257957</td>\n",
              "    </tr>\n",
              "    <tr>\n",
              "      <th>age</th>\n",
              "      <td>0.212545</td>\n",
              "    </tr>\n",
              "    <tr>\n",
              "      <th>hypertension</th>\n",
              "      <td>0.052280</td>\n",
              "    </tr>\n",
              "    <tr>\n",
              "      <th>smokes</th>\n",
              "      <td>0.036420</td>\n",
              "    </tr>\n",
              "    <tr>\n",
              "      <th>never smoked</th>\n",
              "      <td>0.025454</td>\n",
              "    </tr>\n",
              "    <tr>\n",
              "      <th>Male</th>\n",
              "      <td>0.025331</td>\n",
              "    </tr>\n",
              "    <tr>\n",
              "      <th>Residence_type</th>\n",
              "      <td>0.023865</td>\n",
              "    </tr>\n",
              "    <tr>\n",
              "      <th>Private</th>\n",
              "      <td>0.020626</td>\n",
              "    </tr>\n",
              "    <tr>\n",
              "      <th>Female</th>\n",
              "      <td>0.016223</td>\n",
              "    </tr>\n",
              "    <tr>\n",
              "      <th>Govt_job</th>\n",
              "      <td>0.014394</td>\n",
              "    </tr>\n",
              "    <tr>\n",
              "      <th>Self-employed</th>\n",
              "      <td>0.011790</td>\n",
              "    </tr>\n",
              "    <tr>\n",
              "      <th>formerly smoked</th>\n",
              "      <td>0.011243</td>\n",
              "    </tr>\n",
              "    <tr>\n",
              "      <th>ever_married</th>\n",
              "      <td>0.009627</td>\n",
              "    </tr>\n",
              "    <tr>\n",
              "      <th>heart_disease</th>\n",
              "      <td>0.009426</td>\n",
              "    </tr>\n",
              "    <tr>\n",
              "      <th>Unknown</th>\n",
              "      <td>0.008869</td>\n",
              "    </tr>\n",
              "    <tr>\n",
              "      <th>Never_worked</th>\n",
              "      <td>0.000000</td>\n",
              "    </tr>\n",
              "    <tr>\n",
              "      <th>children</th>\n",
              "      <td>0.000000</td>\n",
              "    </tr>\n",
              "    <tr>\n",
              "      <th>Other</th>\n",
              "      <td>0.000000</td>\n",
              "    </tr>\n",
              "  </tbody>\n",
              "</table>\n",
              "</div>\n",
              "      <button class=\"colab-df-convert\" onclick=\"convertToInteractive('df-0d473118-93af-4f32-8f45-712dd3c71620')\"\n",
              "              title=\"Convert this dataframe to an interactive table.\"\n",
              "              style=\"display:none;\">\n",
              "        \n",
              "  <svg xmlns=\"http://www.w3.org/2000/svg\" height=\"24px\"viewBox=\"0 0 24 24\"\n",
              "       width=\"24px\">\n",
              "    <path d=\"M0 0h24v24H0V0z\" fill=\"none\"/>\n",
              "    <path d=\"M18.56 5.44l.94 2.06.94-2.06 2.06-.94-2.06-.94-.94-2.06-.94 2.06-2.06.94zm-11 1L8.5 8.5l.94-2.06 2.06-.94-2.06-.94L8.5 2.5l-.94 2.06-2.06.94zm10 10l.94 2.06.94-2.06 2.06-.94-2.06-.94-.94-2.06-.94 2.06-2.06.94z\"/><path d=\"M17.41 7.96l-1.37-1.37c-.4-.4-.92-.59-1.43-.59-.52 0-1.04.2-1.43.59L10.3 9.45l-7.72 7.72c-.78.78-.78 2.05 0 2.83L4 21.41c.39.39.9.59 1.41.59.51 0 1.02-.2 1.41-.59l7.78-7.78 2.81-2.81c.8-.78.8-2.07 0-2.86zM5.41 20L4 18.59l7.72-7.72 1.47 1.35L5.41 20z\"/>\n",
              "  </svg>\n",
              "      </button>\n",
              "      \n",
              "  <style>\n",
              "    .colab-df-container {\n",
              "      display:flex;\n",
              "      flex-wrap:wrap;\n",
              "      gap: 12px;\n",
              "    }\n",
              "\n",
              "    .colab-df-convert {\n",
              "      background-color: #E8F0FE;\n",
              "      border: none;\n",
              "      border-radius: 50%;\n",
              "      cursor: pointer;\n",
              "      display: none;\n",
              "      fill: #1967D2;\n",
              "      height: 32px;\n",
              "      padding: 0 0 0 0;\n",
              "      width: 32px;\n",
              "    }\n",
              "\n",
              "    .colab-df-convert:hover {\n",
              "      background-color: #E2EBFA;\n",
              "      box-shadow: 0px 1px 2px rgba(60, 64, 67, 0.3), 0px 1px 3px 1px rgba(60, 64, 67, 0.15);\n",
              "      fill: #174EA6;\n",
              "    }\n",
              "\n",
              "    [theme=dark] .colab-df-convert {\n",
              "      background-color: #3B4455;\n",
              "      fill: #D2E3FC;\n",
              "    }\n",
              "\n",
              "    [theme=dark] .colab-df-convert:hover {\n",
              "      background-color: #434B5C;\n",
              "      box-shadow: 0px 1px 3px 1px rgba(0, 0, 0, 0.15);\n",
              "      filter: drop-shadow(0px 1px 2px rgba(0, 0, 0, 0.3));\n",
              "      fill: #FFFFFF;\n",
              "    }\n",
              "  </style>\n",
              "\n",
              "      <script>\n",
              "        const buttonEl =\n",
              "          document.querySelector('#df-0d473118-93af-4f32-8f45-712dd3c71620 button.colab-df-convert');\n",
              "        buttonEl.style.display =\n",
              "          google.colab.kernel.accessAllowed ? 'block' : 'none';\n",
              "\n",
              "        async function convertToInteractive(key) {\n",
              "          const element = document.querySelector('#df-0d473118-93af-4f32-8f45-712dd3c71620');\n",
              "          const dataTable =\n",
              "            await google.colab.kernel.invokeFunction('convertToInteractive',\n",
              "                                                     [key], {});\n",
              "          if (!dataTable) return;\n",
              "\n",
              "          const docLinkHtml = 'Like what you see? Visit the ' +\n",
              "            '<a target=\"_blank\" href=https://colab.research.google.com/notebooks/data_table.ipynb>data table notebook</a>'\n",
              "            + ' to learn more about interactive tables.';\n",
              "          element.innerHTML = '';\n",
              "          dataTable['output_type'] = 'display_data';\n",
              "          await google.colab.output.renderOutput(dataTable, element);\n",
              "          const docLink = document.createElement('div');\n",
              "          docLink.innerHTML = docLinkHtml;\n",
              "          element.appendChild(docLink);\n",
              "        }\n",
              "      </script>\n",
              "    </div>\n",
              "  </div>\n",
              "  "
            ]
          },
          "metadata": {},
          "execution_count": 127
        }
      ]
    },
    {
      "cell_type": "markdown",
      "source": [
        "### Random Forest"
      ],
      "metadata": {
        "id": "AwHfoDaBG-TK"
      }
    },
    {
      "cell_type": "markdown",
      "source": [
        "Train the Random Forest model with training dataset"
      ],
      "metadata": {
        "id": "0K99NClJHK9K"
      }
    },
    {
      "cell_type": "code",
      "source": [
        "from sklearn.ensemble import RandomForestClassifier\n",
        "\n",
        "rf = RandomForestClassifier(n_estimators=10, criterion = 'gini', random_state = 1)\n",
        "rf.fit(X_train, y_train.ravel())"
      ],
      "metadata": {
        "colab": {
          "base_uri": "https://localhost:8080/"
        },
        "id": "9DvBTXRDHIdj",
        "outputId": "66d378d8-1376-496d-eabc-76ff41c3f6a2"
      },
      "execution_count": 128,
      "outputs": [
        {
          "output_type": "execute_result",
          "data": {
            "text/plain": [
              "RandomForestClassifier(n_estimators=10, random_state=1)"
            ]
          },
          "metadata": {},
          "execution_count": 128
        }
      ]
    },
    {
      "cell_type": "markdown",
      "source": [
        "Perform a 5-Fold Cross Validation for Decision Tree"
      ],
      "metadata": {
        "id": "TM9BgcjuHZiV"
      }
    },
    {
      "cell_type": "code",
      "source": [
        "#Validate the training model based on its accuracy\n",
        "result = cross_val_score(rf, X_train, y_train.ravel(), cv = kf, scoring = 'accuracy')\n",
        "print(f'Avg accurary: {result.mean()}')"
      ],
      "metadata": {
        "colab": {
          "base_uri": "https://localhost:8080/"
        },
        "id": "LIA7Z0RTHmcz",
        "outputId": "66810642-3dc9-454d-d9e4-0e6da7081a67"
      },
      "execution_count": 129,
      "outputs": [
        {
          "output_type": "stream",
          "name": "stdout",
          "text": [
            "Avg accurary: 0.9534371720659423\n"
          ]
        }
      ]
    },
    {
      "cell_type": "markdown",
      "source": [
        "Random Forest - Using the model to make predictions on the test dataset"
      ],
      "metadata": {
        "id": "DH9YgOxgH21I"
      }
    },
    {
      "cell_type": "code",
      "source": [
        "#Predict the test set results\n",
        "y_pred_rf = rf.predict(X_test)"
      ],
      "metadata": {
        "id": "C8fuyOLHH3Gz"
      },
      "execution_count": 130,
      "outputs": []
    },
    {
      "cell_type": "markdown",
      "source": [
        "Random Forest - Classification report"
      ],
      "metadata": {
        "id": "1aRwwwmIICR4"
      }
    },
    {
      "cell_type": "code",
      "source": [
        "print(classification_report(y_test, y_pred_rf))"
      ],
      "metadata": {
        "colab": {
          "base_uri": "https://localhost:8080/"
        },
        "id": "bUz5nbPVIBoA",
        "outputId": "4b895641-fc8c-41a6-d680-ee20aa43f36e"
      },
      "execution_count": 131,
      "outputs": [
        {
          "output_type": "stream",
          "name": "stdout",
          "text": [
            "              precision    recall  f1-score   support\n",
            "\n",
            "           0       0.96      1.00      0.98      1412\n",
            "           1       0.12      0.02      0.03        61\n",
            "\n",
            "    accuracy                           0.95      1473\n",
            "   macro avg       0.54      0.51      0.50      1473\n",
            "weighted avg       0.92      0.95      0.94      1473\n",
            "\n"
          ]
        }
      ]
    },
    {
      "cell_type": "markdown",
      "source": [
        "# Final Report"
      ],
      "metadata": {
        "id": "2FMA8quVJOJ9"
      }
    },
    {
      "cell_type": "code",
      "source": [
        "import numpy as np \n",
        "import matplotlib.pyplot as plt \n",
        "  \n",
        "X   = ['KNN','GNB','LOG-R','SVM', 'DT', 'RF']\n",
        "\n",
        "#Collect this information from the classification reports and store them in lists\n",
        "accuracy  = [0.96, 0.34, 0.96, 0.96, 0.93, 0.95]\n",
        "precision = [0.93, 0.96, 0.92, 0.93, 0.93, 0.92]\n",
        "recall    = [0.96, 0.34, 0.96, 0.96, 0.93, 0.95]\n",
        "f1        = [0.94, 0.46, 0.94, 0.94, 0.93, 0.94]\n",
        "\n",
        "\n",
        "#here we use np.arange to get the number of items to place on the x-axis \n",
        "X_axis = np.arange(len(X))\n",
        "\n",
        "#the spacing between each bar each bar\n",
        "spacing= 0.15\n",
        "\n",
        "#setting the size of the graph\n",
        "plt.rcParams[\"figure.figsize\"] = (20,5)\n",
        "  \n",
        "#below we are plotting 4 bars for each label on the x-axis with the following syntax\n",
        "#plt.bar(star_pos_for_each_bar, list_of_values, width_of each_bar, label_name_for each bar)\n",
        "plt.bar(X_axis, accuracy, 0.25, label = 'Accuracy')\n",
        "plt.bar(X_axis + spacing, precision, 0.25, label = 'Precision')\n",
        "plt.bar(X_axis + spacing *2, recall, 0.25, label = 'Recall')\n",
        "plt.bar(X_axis + spacing *3, f1, 0.25, label = 'F1')\n",
        "\n",
        "#setting the range of values for the X axis\n",
        "plt.xticks(X_axis, X)\n",
        "plt.xlabel(\"Model\")\n",
        "plt.ylabel(\"Weighted Avg\")\n",
        "plt.title(\"Model vs Weighted Avg Of Various Metrics\")\n",
        "plt.legend(loc='upper right')\n",
        "\n",
        "plt.show()"
      ],
      "metadata": {
        "colab": {
          "base_uri": "https://localhost:8080/",
          "height": 355
        },
        "id": "AiWqg0iYJVyk",
        "outputId": "fded0dda-1c81-4028-c015-0f2d723a0f41"
      },
      "execution_count": 142,
      "outputs": [
        {
          "output_type": "display_data",
          "data": {
            "text/plain": [
              "<Figure size 1440x360 with 1 Axes>"
            ],
            "image/png": "[encoded data removed]"
          },
          "metadata": {}
        }
      ]
    }
  ]
}